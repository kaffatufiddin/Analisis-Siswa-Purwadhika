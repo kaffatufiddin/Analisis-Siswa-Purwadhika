{
 "cells": [
  {
   "cell_type": "code",
   "execution_count": 1,
   "metadata": {
    "id": "y_733PV114YY"
   },
   "outputs": [],
   "source": [
    "# IMPORT LIBRARIES\n",
    "import pandas as pd\n",
    "import numpy as np"
   ]
  },
  {
   "cell_type": "markdown",
   "metadata": {
    "id": "0g6yzyUXpJ_T"
   },
   "source": [
    "# 1 DATA UNDERSTANDING"
   ]
  },
  {
   "cell_type": "markdown",
   "metadata": {
    "id": "tNnY8udtYw3b"
   },
   "source": [
    "Tujuan utama data understanding adalah untuk mendapatkan pemahaman yang komprehensif tentang data sebelum melakukan analisis yang lebih kompleks."
   ]
  },
  {
   "cell_type": "markdown",
   "metadata": {
    "id": "24pLd8ucerb_"
   },
   "source": [
    "## a. IMPORT DATA"
   ]
  },
  {
   "cell_type": "code",
   "execution_count": 2,
   "metadata": {
    "colab": {
     "base_uri": "https://localhost:8080/",
     "height": 1000
    },
    "id": "QnbkdFIh1ZXo",
    "outputId": "0eac35ba-0b2e-4d6a-eda7-eabc453577ac"
   },
   "outputs": [
    {
     "data": {
      "text/html": [
       "<div>\n",
       "<style scoped>\n",
       "    .dataframe tbody tr th:only-of-type {\n",
       "        vertical-align: middle;\n",
       "    }\n",
       "\n",
       "    .dataframe tbody tr th {\n",
       "        vertical-align: top;\n",
       "    }\n",
       "\n",
       "    .dataframe thead th {\n",
       "        text-align: right;\n",
       "    }\n",
       "</style>\n",
       "<table border=\"1\" class=\"dataframe\">\n",
       "  <thead>\n",
       "    <tr style=\"text-align: right;\">\n",
       "      <th></th>\n",
       "      <th>Umur</th>\n",
       "      <th>Asal_Daerah</th>\n",
       "      <th>Pendidikan</th>\n",
       "      <th>Informasi_Purwadhika</th>\n",
       "      <th>Tingkat_Kemampuan</th>\n",
       "      <th>kelas</th>\n",
       "      <th>Pengeluaran_Bulanan</th>\n",
       "      <th>gender</th>\n",
       "    </tr>\n",
       "  </thead>\n",
       "  <tbody>\n",
       "    <tr>\n",
       "      <th>0</th>\n",
       "      <td>26</td>\n",
       "      <td>Jawa Tengah</td>\n",
       "      <td>S1</td>\n",
       "      <td>Instagram</td>\n",
       "      <td>2</td>\n",
       "      <td>DM</td>\n",
       "      <td>1200000</td>\n",
       "      <td>Pria</td>\n",
       "    </tr>\n",
       "    <tr>\n",
       "      <th>1</th>\n",
       "      <td>23</td>\n",
       "      <td>Yogyakarta</td>\n",
       "      <td>S1</td>\n",
       "      <td>Teman</td>\n",
       "      <td>3</td>\n",
       "      <td>WD</td>\n",
       "      <td>2000000</td>\n",
       "      <td>Pria</td>\n",
       "    </tr>\n",
       "    <tr>\n",
       "      <th>2</th>\n",
       "      <td>30</td>\n",
       "      <td>Jawa Tengah</td>\n",
       "      <td>S1</td>\n",
       "      <td>Lainnya</td>\n",
       "      <td>2</td>\n",
       "      <td>DM</td>\n",
       "      <td>1600000</td>\n",
       "      <td>Pria</td>\n",
       "    </tr>\n",
       "    <tr>\n",
       "      <th>3</th>\n",
       "      <td>27</td>\n",
       "      <td>Bali</td>\n",
       "      <td>S1</td>\n",
       "      <td>Teman</td>\n",
       "      <td>3</td>\n",
       "      <td>DM</td>\n",
       "      <td>1100000</td>\n",
       "      <td>Pria</td>\n",
       "    </tr>\n",
       "    <tr>\n",
       "      <th>4</th>\n",
       "      <td>24</td>\n",
       "      <td>Jawa Tengah</td>\n",
       "      <td>S1</td>\n",
       "      <td>Lainnya</td>\n",
       "      <td>1</td>\n",
       "      <td>WD</td>\n",
       "      <td>1200000</td>\n",
       "      <td>Pria</td>\n",
       "    </tr>\n",
       "    <tr>\n",
       "      <th>5</th>\n",
       "      <td>21</td>\n",
       "      <td>Jawa Barat</td>\n",
       "      <td>S1</td>\n",
       "      <td>LinkedIn</td>\n",
       "      <td>2</td>\n",
       "      <td>WD</td>\n",
       "      <td>1500000</td>\n",
       "      <td>Pria</td>\n",
       "    </tr>\n",
       "    <tr>\n",
       "      <th>6</th>\n",
       "      <td>28</td>\n",
       "      <td>Yogyakarta</td>\n",
       "      <td>S1</td>\n",
       "      <td>Instagram</td>\n",
       "      <td>1</td>\n",
       "      <td>WD</td>\n",
       "      <td>1400000</td>\n",
       "      <td>Pria</td>\n",
       "    </tr>\n",
       "    <tr>\n",
       "      <th>7</th>\n",
       "      <td>22</td>\n",
       "      <td>Jawa Barat</td>\n",
       "      <td>SMA</td>\n",
       "      <td>Instagram</td>\n",
       "      <td>2</td>\n",
       "      <td>DM</td>\n",
       "      <td>1600000</td>\n",
       "      <td>Pria</td>\n",
       "    </tr>\n",
       "    <tr>\n",
       "      <th>8</th>\n",
       "      <td>25</td>\n",
       "      <td>Yogyakarta</td>\n",
       "      <td>S1</td>\n",
       "      <td>Teman</td>\n",
       "      <td>3</td>\n",
       "      <td>WD</td>\n",
       "      <td>1600000</td>\n",
       "      <td>Pria</td>\n",
       "    </tr>\n",
       "    <tr>\n",
       "      <th>9</th>\n",
       "      <td>29</td>\n",
       "      <td>Jawa Tengah</td>\n",
       "      <td>S1</td>\n",
       "      <td>Instagram</td>\n",
       "      <td>2</td>\n",
       "      <td>DM</td>\n",
       "      <td>1600000</td>\n",
       "      <td>Pria</td>\n",
       "    </tr>\n",
       "    <tr>\n",
       "      <th>10</th>\n",
       "      <td>32</td>\n",
       "      <td>Jawa Barat</td>\n",
       "      <td>S1</td>\n",
       "      <td>Lainnya</td>\n",
       "      <td>1</td>\n",
       "      <td>WD</td>\n",
       "      <td>1500000</td>\n",
       "      <td>Pria</td>\n",
       "    </tr>\n",
       "    <tr>\n",
       "      <th>11</th>\n",
       "      <td>20</td>\n",
       "      <td>Jawa Tengah</td>\n",
       "      <td>SMA</td>\n",
       "      <td>Teman</td>\n",
       "      <td>3</td>\n",
       "      <td>WD</td>\n",
       "      <td>1500000</td>\n",
       "      <td>Pria</td>\n",
       "    </tr>\n",
       "    <tr>\n",
       "      <th>12</th>\n",
       "      <td>31</td>\n",
       "      <td>Jawa Timur</td>\n",
       "      <td>S1</td>\n",
       "      <td>Instagram</td>\n",
       "      <td>1</td>\n",
       "      <td>DM</td>\n",
       "      <td>1600000</td>\n",
       "      <td>Pria</td>\n",
       "    </tr>\n",
       "    <tr>\n",
       "      <th>13</th>\n",
       "      <td>23</td>\n",
       "      <td>Yogyakarta</td>\n",
       "      <td>S1</td>\n",
       "      <td>Teman</td>\n",
       "      <td>3</td>\n",
       "      <td>DM</td>\n",
       "      <td>1400000</td>\n",
       "      <td>Pria</td>\n",
       "    </tr>\n",
       "    <tr>\n",
       "      <th>14</th>\n",
       "      <td>28</td>\n",
       "      <td>Bali</td>\n",
       "      <td>S1</td>\n",
       "      <td>LinkedIn</td>\n",
       "      <td>2</td>\n",
       "      <td>DM</td>\n",
       "      <td>1500000</td>\n",
       "      <td>Pria</td>\n",
       "    </tr>\n",
       "    <tr>\n",
       "      <th>15</th>\n",
       "      <td>24</td>\n",
       "      <td>Jawa Tengah</td>\n",
       "      <td>S1</td>\n",
       "      <td>Instagram</td>\n",
       "      <td>1</td>\n",
       "      <td>DM</td>\n",
       "      <td>1400000</td>\n",
       "      <td>Pria</td>\n",
       "    </tr>\n",
       "    <tr>\n",
       "      <th>16</th>\n",
       "      <td>33</td>\n",
       "      <td>Papua</td>\n",
       "      <td>S1</td>\n",
       "      <td>Instagram</td>\n",
       "      <td>3</td>\n",
       "      <td>DM</td>\n",
       "      <td>1400000</td>\n",
       "      <td>Pria</td>\n",
       "    </tr>\n",
       "    <tr>\n",
       "      <th>17</th>\n",
       "      <td>27</td>\n",
       "      <td>Jawa Tengah</td>\n",
       "      <td>S1</td>\n",
       "      <td>Teman</td>\n",
       "      <td>2</td>\n",
       "      <td>DM</td>\n",
       "      <td>1500000</td>\n",
       "      <td>Pria</td>\n",
       "    </tr>\n",
       "    <tr>\n",
       "      <th>18</th>\n",
       "      <td>25</td>\n",
       "      <td>Yogyakarta</td>\n",
       "      <td>S1</td>\n",
       "      <td>Instagram</td>\n",
       "      <td>1</td>\n",
       "      <td>DM</td>\n",
       "      <td>1400000</td>\n",
       "      <td>Pria</td>\n",
       "    </tr>\n",
       "    <tr>\n",
       "      <th>19</th>\n",
       "      <td>30</td>\n",
       "      <td>Jawa Barat</td>\n",
       "      <td>S1</td>\n",
       "      <td>Lainnya</td>\n",
       "      <td>3</td>\n",
       "      <td>WD</td>\n",
       "      <td>800000</td>\n",
       "      <td>Pria</td>\n",
       "    </tr>\n",
       "    <tr>\n",
       "      <th>20</th>\n",
       "      <td>26</td>\n",
       "      <td>Jawa Tengah</td>\n",
       "      <td>S1</td>\n",
       "      <td>Instagram</td>\n",
       "      <td>2</td>\n",
       "      <td>WD</td>\n",
       "      <td>2000000</td>\n",
       "      <td>Pria</td>\n",
       "    </tr>\n",
       "    <tr>\n",
       "      <th>21</th>\n",
       "      <td>24</td>\n",
       "      <td>Yogyakarta</td>\n",
       "      <td>SMA</td>\n",
       "      <td>Instagram</td>\n",
       "      <td>1</td>\n",
       "      <td>WD</td>\n",
       "      <td>1100000</td>\n",
       "      <td>Pria</td>\n",
       "    </tr>\n",
       "    <tr>\n",
       "      <th>22</th>\n",
       "      <td>22</td>\n",
       "      <td>Jawa Tengah</td>\n",
       "      <td>S1</td>\n",
       "      <td>LinkedIn</td>\n",
       "      <td>3</td>\n",
       "      <td>DM</td>\n",
       "      <td>1600000</td>\n",
       "      <td>Pria</td>\n",
       "    </tr>\n",
       "    <tr>\n",
       "      <th>23</th>\n",
       "      <td>31</td>\n",
       "      <td>Sumatera Barat</td>\n",
       "      <td>S1</td>\n",
       "      <td>Teman</td>\n",
       "      <td>2</td>\n",
       "      <td>DM</td>\n",
       "      <td>1300000</td>\n",
       "      <td>Pria</td>\n",
       "    </tr>\n",
       "    <tr>\n",
       "      <th>24</th>\n",
       "      <td>25</td>\n",
       "      <td>Yogyakarta</td>\n",
       "      <td>S1</td>\n",
       "      <td>Lainnya</td>\n",
       "      <td>1</td>\n",
       "      <td>DM</td>\n",
       "      <td>2000000</td>\n",
       "      <td>Pria</td>\n",
       "    </tr>\n",
       "    <tr>\n",
       "      <th>25</th>\n",
       "      <td>27</td>\n",
       "      <td>Jawa Tengah</td>\n",
       "      <td>S1</td>\n",
       "      <td>Instagram</td>\n",
       "      <td>3</td>\n",
       "      <td>DM</td>\n",
       "      <td>1300000</td>\n",
       "      <td>Pria</td>\n",
       "    </tr>\n",
       "    <tr>\n",
       "      <th>26</th>\n",
       "      <td>23</td>\n",
       "      <td>Jawa Tengah</td>\n",
       "      <td>S1</td>\n",
       "      <td>Teman</td>\n",
       "      <td>2</td>\n",
       "      <td>WD</td>\n",
       "      <td>1500000</td>\n",
       "      <td>Pria</td>\n",
       "    </tr>\n",
       "    <tr>\n",
       "      <th>27</th>\n",
       "      <td>29</td>\n",
       "      <td>Jawa Barat</td>\n",
       "      <td>S1</td>\n",
       "      <td>Lainnya</td>\n",
       "      <td>1</td>\n",
       "      <td>WD</td>\n",
       "      <td>1700000</td>\n",
       "      <td>Pria</td>\n",
       "    </tr>\n",
       "    <tr>\n",
       "      <th>28</th>\n",
       "      <td>34</td>\n",
       "      <td>Papua</td>\n",
       "      <td>S1</td>\n",
       "      <td>Instagram</td>\n",
       "      <td>3</td>\n",
       "      <td>DM</td>\n",
       "      <td>1000000</td>\n",
       "      <td>Wanita</td>\n",
       "    </tr>\n",
       "    <tr>\n",
       "      <th>29</th>\n",
       "      <td>35</td>\n",
       "      <td>Bali</td>\n",
       "      <td>S1</td>\n",
       "      <td>Teman</td>\n",
       "      <td>2</td>\n",
       "      <td>WD</td>\n",
       "      <td>1300000</td>\n",
       "      <td>Pria</td>\n",
       "    </tr>\n",
       "    <tr>\n",
       "      <th>30</th>\n",
       "      <td>21</td>\n",
       "      <td>Yogyakarta</td>\n",
       "      <td>S1</td>\n",
       "      <td>LinkedIn</td>\n",
       "      <td>1</td>\n",
       "      <td>DM</td>\n",
       "      <td>900000</td>\n",
       "      <td>Pria</td>\n",
       "    </tr>\n",
       "    <tr>\n",
       "      <th>31</th>\n",
       "      <td>22</td>\n",
       "      <td>Jawa Tengah</td>\n",
       "      <td>S1</td>\n",
       "      <td>Instagram</td>\n",
       "      <td>3</td>\n",
       "      <td>WD</td>\n",
       "      <td>1100000</td>\n",
       "      <td>Pria</td>\n",
       "    </tr>\n",
       "    <tr>\n",
       "      <th>32</th>\n",
       "      <td>29</td>\n",
       "      <td>Jawa Barat</td>\n",
       "      <td>S1</td>\n",
       "      <td>Instagram</td>\n",
       "      <td>2</td>\n",
       "      <td>DM</td>\n",
       "      <td>1300000</td>\n",
       "      <td>Pria</td>\n",
       "    </tr>\n",
       "    <tr>\n",
       "      <th>33</th>\n",
       "      <td>30</td>\n",
       "      <td>Jawa Tengah</td>\n",
       "      <td>S1</td>\n",
       "      <td>Lainnya</td>\n",
       "      <td>1</td>\n",
       "      <td>DM</td>\n",
       "      <td>1300000</td>\n",
       "      <td>Pria</td>\n",
       "    </tr>\n",
       "    <tr>\n",
       "      <th>34</th>\n",
       "      <td>23</td>\n",
       "      <td>Yogyakarta</td>\n",
       "      <td>S1</td>\n",
       "      <td>Teman</td>\n",
       "      <td>3</td>\n",
       "      <td>WD</td>\n",
       "      <td>1800000</td>\n",
       "      <td>Pria</td>\n",
       "    </tr>\n",
       "    <tr>\n",
       "      <th>35</th>\n",
       "      <td>26</td>\n",
       "      <td>Sumatera Barat</td>\n",
       "      <td>S1</td>\n",
       "      <td>Instagram</td>\n",
       "      <td>2</td>\n",
       "      <td>DM</td>\n",
       "      <td>1200000</td>\n",
       "      <td>Wanita</td>\n",
       "    </tr>\n",
       "    <tr>\n",
       "      <th>36</th>\n",
       "      <td>24</td>\n",
       "      <td>Jawa Barat</td>\n",
       "      <td>S1</td>\n",
       "      <td>Teman</td>\n",
       "      <td>1</td>\n",
       "      <td>DM</td>\n",
       "      <td>1700000</td>\n",
       "      <td>Pria</td>\n",
       "    </tr>\n",
       "    <tr>\n",
       "      <th>37</th>\n",
       "      <td>28</td>\n",
       "      <td>Jawa Tengah</td>\n",
       "      <td>S1</td>\n",
       "      <td>Instagram</td>\n",
       "      <td>3</td>\n",
       "      <td>DM</td>\n",
       "      <td>1100000</td>\n",
       "      <td>Pria</td>\n",
       "    </tr>\n",
       "    <tr>\n",
       "      <th>38</th>\n",
       "      <td>30</td>\n",
       "      <td>Jawa Barat</td>\n",
       "      <td>S1</td>\n",
       "      <td>LinkedIn</td>\n",
       "      <td>2</td>\n",
       "      <td>DM</td>\n",
       "      <td>900000</td>\n",
       "      <td>Pria</td>\n",
       "    </tr>\n",
       "    <tr>\n",
       "      <th>39</th>\n",
       "      <td>25</td>\n",
       "      <td>Yogyakarta</td>\n",
       "      <td>S1</td>\n",
       "      <td>Lainnya</td>\n",
       "      <td>1</td>\n",
       "      <td>DM</td>\n",
       "      <td>1400000</td>\n",
       "      <td>Pria</td>\n",
       "    </tr>\n",
       "    <tr>\n",
       "      <th>40</th>\n",
       "      <td>33</td>\n",
       "      <td>Bali</td>\n",
       "      <td>S1</td>\n",
       "      <td>Instagram</td>\n",
       "      <td>3</td>\n",
       "      <td>WD</td>\n",
       "      <td>1800000</td>\n",
       "      <td>Pria</td>\n",
       "    </tr>\n",
       "    <tr>\n",
       "      <th>41</th>\n",
       "      <td>34</td>\n",
       "      <td>Papua</td>\n",
       "      <td>S1</td>\n",
       "      <td>Instagram</td>\n",
       "      <td>2</td>\n",
       "      <td>WD</td>\n",
       "      <td>1400000</td>\n",
       "      <td>Pria</td>\n",
       "    </tr>\n",
       "    <tr>\n",
       "      <th>42</th>\n",
       "      <td>27</td>\n",
       "      <td>Jawa Barat</td>\n",
       "      <td>S1</td>\n",
       "      <td>LinkedIn</td>\n",
       "      <td>1</td>\n",
       "      <td>DM</td>\n",
       "      <td>1500000</td>\n",
       "      <td>Wanita</td>\n",
       "    </tr>\n",
       "    <tr>\n",
       "      <th>43</th>\n",
       "      <td>24</td>\n",
       "      <td>Jawa Tengah</td>\n",
       "      <td>S1</td>\n",
       "      <td>Lainnya</td>\n",
       "      <td>3</td>\n",
       "      <td>WD</td>\n",
       "      <td>1500000</td>\n",
       "      <td>Pria</td>\n",
       "    </tr>\n",
       "    <tr>\n",
       "      <th>44</th>\n",
       "      <td>29</td>\n",
       "      <td>Sumatera Barat</td>\n",
       "      <td>S1</td>\n",
       "      <td>Teman</td>\n",
       "      <td>2</td>\n",
       "      <td>DM</td>\n",
       "      <td>1400000</td>\n",
       "      <td>Wanita</td>\n",
       "    </tr>\n",
       "    <tr>\n",
       "      <th>45</th>\n",
       "      <td>32</td>\n",
       "      <td>Jawa Tengah</td>\n",
       "      <td>SMA</td>\n",
       "      <td>Twitter</td>\n",
       "      <td>1</td>\n",
       "      <td>DM</td>\n",
       "      <td>1700000</td>\n",
       "      <td>Pria</td>\n",
       "    </tr>\n",
       "    <tr>\n",
       "      <th>46</th>\n",
       "      <td>23</td>\n",
       "      <td>Jawa Barat</td>\n",
       "      <td>S1</td>\n",
       "      <td>Instagram</td>\n",
       "      <td>3</td>\n",
       "      <td>DM</td>\n",
       "      <td>1600000</td>\n",
       "      <td>Pria</td>\n",
       "    </tr>\n",
       "    <tr>\n",
       "      <th>47</th>\n",
       "      <td>39</td>\n",
       "      <td>Yogyakarta</td>\n",
       "      <td>S1</td>\n",
       "      <td>Teman</td>\n",
       "      <td>2</td>\n",
       "      <td>WD</td>\n",
       "      <td>1000000</td>\n",
       "      <td>Pria</td>\n",
       "    </tr>\n",
       "    <tr>\n",
       "      <th>48</th>\n",
       "      <td>33</td>\n",
       "      <td>Bali</td>\n",
       "      <td>S1</td>\n",
       "      <td>Lainnya</td>\n",
       "      <td>1</td>\n",
       "      <td>DM</td>\n",
       "      <td>1600000</td>\n",
       "      <td>Wanita</td>\n",
       "    </tr>\n",
       "    <tr>\n",
       "      <th>49</th>\n",
       "      <td>20</td>\n",
       "      <td>Jawa Barat</td>\n",
       "      <td>S1</td>\n",
       "      <td>Twitter</td>\n",
       "      <td>3</td>\n",
       "      <td>WD</td>\n",
       "      <td>900000</td>\n",
       "      <td>Pria</td>\n",
       "    </tr>\n",
       "  </tbody>\n",
       "</table>\n",
       "</div>"
      ],
      "text/plain": [
       "    Umur     Asal_Daerah Pendidikan Informasi_Purwadhika  Tingkat_Kemampuan  \\\n",
       "0     26     Jawa Tengah         S1            Instagram                  2   \n",
       "1     23      Yogyakarta         S1                Teman                  3   \n",
       "2     30     Jawa Tengah         S1              Lainnya                  2   \n",
       "3     27            Bali         S1                Teman                  3   \n",
       "4     24     Jawa Tengah         S1              Lainnya                  1   \n",
       "5     21      Jawa Barat         S1             LinkedIn                  2   \n",
       "6     28      Yogyakarta         S1            Instagram                  1   \n",
       "7     22      Jawa Barat        SMA            Instagram                  2   \n",
       "8     25      Yogyakarta         S1                Teman                  3   \n",
       "9     29     Jawa Tengah         S1            Instagram                  2   \n",
       "10    32      Jawa Barat         S1              Lainnya                  1   \n",
       "11    20     Jawa Tengah        SMA                Teman                  3   \n",
       "12    31      Jawa Timur         S1            Instagram                  1   \n",
       "13    23      Yogyakarta         S1                Teman                  3   \n",
       "14    28            Bali         S1             LinkedIn                  2   \n",
       "15    24     Jawa Tengah         S1            Instagram                  1   \n",
       "16    33           Papua         S1            Instagram                  3   \n",
       "17    27     Jawa Tengah         S1                Teman                  2   \n",
       "18    25      Yogyakarta         S1            Instagram                  1   \n",
       "19    30      Jawa Barat         S1              Lainnya                  3   \n",
       "20    26     Jawa Tengah         S1            Instagram                  2   \n",
       "21    24      Yogyakarta        SMA            Instagram                  1   \n",
       "22    22     Jawa Tengah         S1             LinkedIn                  3   \n",
       "23    31  Sumatera Barat         S1                Teman                  2   \n",
       "24    25      Yogyakarta         S1              Lainnya                  1   \n",
       "25    27     Jawa Tengah         S1            Instagram                  3   \n",
       "26    23     Jawa Tengah         S1                Teman                  2   \n",
       "27    29      Jawa Barat         S1              Lainnya                  1   \n",
       "28    34           Papua         S1            Instagram                  3   \n",
       "29    35            Bali         S1                Teman                  2   \n",
       "30    21      Yogyakarta         S1             LinkedIn                  1   \n",
       "31    22     Jawa Tengah         S1            Instagram                  3   \n",
       "32    29      Jawa Barat         S1            Instagram                  2   \n",
       "33    30     Jawa Tengah         S1              Lainnya                  1   \n",
       "34    23      Yogyakarta         S1                Teman                  3   \n",
       "35    26  Sumatera Barat         S1            Instagram                  2   \n",
       "36    24      Jawa Barat         S1                Teman                  1   \n",
       "37    28     Jawa Tengah         S1            Instagram                  3   \n",
       "38    30      Jawa Barat         S1             LinkedIn                  2   \n",
       "39    25      Yogyakarta         S1              Lainnya                  1   \n",
       "40    33            Bali         S1            Instagram                  3   \n",
       "41    34           Papua         S1            Instagram                  2   \n",
       "42    27      Jawa Barat         S1             LinkedIn                  1   \n",
       "43    24     Jawa Tengah         S1              Lainnya                  3   \n",
       "44    29  Sumatera Barat         S1                Teman                  2   \n",
       "45    32     Jawa Tengah        SMA              Twitter                  1   \n",
       "46    23      Jawa Barat         S1            Instagram                  3   \n",
       "47    39      Yogyakarta         S1                Teman                  2   \n",
       "48    33            Bali         S1              Lainnya                  1   \n",
       "49    20      Jawa Barat         S1              Twitter                  3   \n",
       "\n",
       "   kelas  Pengeluaran_Bulanan  gender  \n",
       "0     DM              1200000    Pria  \n",
       "1     WD              2000000    Pria  \n",
       "2     DM              1600000    Pria  \n",
       "3     DM              1100000    Pria  \n",
       "4     WD              1200000    Pria  \n",
       "5     WD              1500000    Pria  \n",
       "6     WD              1400000    Pria  \n",
       "7     DM              1600000    Pria  \n",
       "8     WD              1600000    Pria  \n",
       "9     DM              1600000    Pria  \n",
       "10    WD              1500000    Pria  \n",
       "11    WD              1500000    Pria  \n",
       "12    DM              1600000    Pria  \n",
       "13    DM              1400000    Pria  \n",
       "14    DM              1500000    Pria  \n",
       "15    DM              1400000    Pria  \n",
       "16    DM              1400000    Pria  \n",
       "17    DM              1500000    Pria  \n",
       "18    DM              1400000    Pria  \n",
       "19    WD               800000    Pria  \n",
       "20    WD              2000000    Pria  \n",
       "21    WD              1100000    Pria  \n",
       "22    DM              1600000    Pria  \n",
       "23    DM              1300000    Pria  \n",
       "24    DM              2000000    Pria  \n",
       "25    DM              1300000    Pria  \n",
       "26    WD              1500000    Pria  \n",
       "27    WD              1700000    Pria  \n",
       "28    DM              1000000  Wanita  \n",
       "29    WD              1300000    Pria  \n",
       "30    DM               900000    Pria  \n",
       "31    WD              1100000    Pria  \n",
       "32    DM              1300000    Pria  \n",
       "33    DM              1300000    Pria  \n",
       "34    WD              1800000    Pria  \n",
       "35    DM              1200000  Wanita  \n",
       "36    DM              1700000    Pria  \n",
       "37    DM              1100000    Pria  \n",
       "38    DM               900000    Pria  \n",
       "39    DM              1400000    Pria  \n",
       "40    WD              1800000    Pria  \n",
       "41    WD              1400000    Pria  \n",
       "42    DM              1500000  Wanita  \n",
       "43    WD              1500000    Pria  \n",
       "44    DM              1400000  Wanita  \n",
       "45    DM              1700000    Pria  \n",
       "46    DM              1600000    Pria  \n",
       "47    WD              1000000    Pria  \n",
       "48    DM              1600000  Wanita  \n",
       "49    WD               900000    Pria  "
      ]
     },
     "execution_count": 2,
     "metadata": {},
     "output_type": "execute_result"
    }
   ],
   "source": [
    "# MEMBACA DATA & DROP KOLOM ID KARENA TIDAK DIGUNAKAN\n",
    "df = pd.read_csv('survey_purwadhika.csv').drop(columns = 'ID')\n",
    "df"
   ]
  },
  {
   "cell_type": "markdown",
   "metadata": {
    "id": "q7jbtifaP3FQ"
   },
   "source": [
    "### 1 ADD KELOMPOK UMUR"
   ]
  },
  {
   "cell_type": "code",
   "execution_count": null,
   "metadata": {
    "id": "NBYJvXgekL54"
   },
   "outputs": [],
   "source": []
  },
  {
   "cell_type": "markdown",
   "metadata": {
    "id": "IkXDWDtBectF"
   },
   "source": [
    "Tujuan pengelompokkan umur :\n",
    "1. Mengidentifikasi perbedaan atau tren yang ada antar kelompok umur\n",
    "2. Memudahkan visualisasi terkait umur\n",
    "\n",
    "Umur siswa Purwadhika dikelompokkan berdasarkan pembagian yang sudah umum diterapkan pada data-data resmi pemerintah melalui [Badan Pusat Statistik.](https://sensus.bps.go.id/topik/tabular/sp2022/188/1/0)\n",
    "\n",
    "Klasifikasi Kelompok Umur\n",
    "Merupakan Pengelompokan atau Pengkodean untuk Kelompok Umur.\n",
    "\n",
    "*   0-4 (umur 0-4)\n",
    "*   5-9 (umur 5-9)\n",
    "*   10-14 (umur 10-14)\n",
    "*   15-19 (umur 15-19)\n",
    "*   20-24 (umur 20-24)\n",
    "*   25-29 (umur 25-29)\n",
    "*   30-34 (umur 30-34)\n",
    "*   35-39 (umur 35-39)\n",
    "*   40-44 (umur 40-44)\n",
    "*   45-49 (umur 45-49)\n",
    "*   50-54 (umur 50-54)\n",
    "*   55-59 (umur 55-59)\n",
    "*   60-64 (umur 60-64)\n",
    "*   65-69 (umur 65-69)\n",
    "*   70-74 (umur 70-74)\n",
    "*   75+ (umur 75 ke atas)\n"
   ]
  },
  {
   "cell_type": "code",
   "execution_count": 3,
   "metadata": {
    "colab": {
     "base_uri": "https://localhost:8080/",
     "height": 1000
    },
    "id": "jT-zltxxpyQa",
    "outputId": "c784d95f-98f2-4357-f195-78b90c70053c"
   },
   "outputs": [
    {
     "data": {
      "text/html": [
       "<div>\n",
       "<style scoped>\n",
       "    .dataframe tbody tr th:only-of-type {\n",
       "        vertical-align: middle;\n",
       "    }\n",
       "\n",
       "    .dataframe tbody tr th {\n",
       "        vertical-align: top;\n",
       "    }\n",
       "\n",
       "    .dataframe thead th {\n",
       "        text-align: right;\n",
       "    }\n",
       "</style>\n",
       "<table border=\"1\" class=\"dataframe\">\n",
       "  <thead>\n",
       "    <tr style=\"text-align: right;\">\n",
       "      <th></th>\n",
       "      <th>Umur</th>\n",
       "      <th>Asal_Daerah</th>\n",
       "      <th>Pendidikan</th>\n",
       "      <th>Informasi_Purwadhika</th>\n",
       "      <th>Tingkat_Kemampuan</th>\n",
       "      <th>kelas</th>\n",
       "      <th>Pengeluaran_Bulanan</th>\n",
       "      <th>gender</th>\n",
       "      <th>Kelompok_Umur</th>\n",
       "    </tr>\n",
       "  </thead>\n",
       "  <tbody>\n",
       "    <tr>\n",
       "      <th>0</th>\n",
       "      <td>26</td>\n",
       "      <td>Jawa Tengah</td>\n",
       "      <td>S1</td>\n",
       "      <td>Instagram</td>\n",
       "      <td>2</td>\n",
       "      <td>DM</td>\n",
       "      <td>1200000</td>\n",
       "      <td>Pria</td>\n",
       "      <td>25 - 29</td>\n",
       "    </tr>\n",
       "    <tr>\n",
       "      <th>1</th>\n",
       "      <td>23</td>\n",
       "      <td>Yogyakarta</td>\n",
       "      <td>S1</td>\n",
       "      <td>Teman</td>\n",
       "      <td>3</td>\n",
       "      <td>WD</td>\n",
       "      <td>2000000</td>\n",
       "      <td>Pria</td>\n",
       "      <td>20 - 24</td>\n",
       "    </tr>\n",
       "    <tr>\n",
       "      <th>2</th>\n",
       "      <td>30</td>\n",
       "      <td>Jawa Tengah</td>\n",
       "      <td>S1</td>\n",
       "      <td>Lainnya</td>\n",
       "      <td>2</td>\n",
       "      <td>DM</td>\n",
       "      <td>1600000</td>\n",
       "      <td>Pria</td>\n",
       "      <td>30 - 34</td>\n",
       "    </tr>\n",
       "    <tr>\n",
       "      <th>3</th>\n",
       "      <td>27</td>\n",
       "      <td>Bali</td>\n",
       "      <td>S1</td>\n",
       "      <td>Teman</td>\n",
       "      <td>3</td>\n",
       "      <td>DM</td>\n",
       "      <td>1100000</td>\n",
       "      <td>Pria</td>\n",
       "      <td>25 - 29</td>\n",
       "    </tr>\n",
       "    <tr>\n",
       "      <th>4</th>\n",
       "      <td>24</td>\n",
       "      <td>Jawa Tengah</td>\n",
       "      <td>S1</td>\n",
       "      <td>Lainnya</td>\n",
       "      <td>1</td>\n",
       "      <td>WD</td>\n",
       "      <td>1200000</td>\n",
       "      <td>Pria</td>\n",
       "      <td>20 - 24</td>\n",
       "    </tr>\n",
       "    <tr>\n",
       "      <th>5</th>\n",
       "      <td>21</td>\n",
       "      <td>Jawa Barat</td>\n",
       "      <td>S1</td>\n",
       "      <td>LinkedIn</td>\n",
       "      <td>2</td>\n",
       "      <td>WD</td>\n",
       "      <td>1500000</td>\n",
       "      <td>Pria</td>\n",
       "      <td>20 - 24</td>\n",
       "    </tr>\n",
       "    <tr>\n",
       "      <th>6</th>\n",
       "      <td>28</td>\n",
       "      <td>Yogyakarta</td>\n",
       "      <td>S1</td>\n",
       "      <td>Instagram</td>\n",
       "      <td>1</td>\n",
       "      <td>WD</td>\n",
       "      <td>1400000</td>\n",
       "      <td>Pria</td>\n",
       "      <td>25 - 29</td>\n",
       "    </tr>\n",
       "    <tr>\n",
       "      <th>7</th>\n",
       "      <td>22</td>\n",
       "      <td>Jawa Barat</td>\n",
       "      <td>SMA</td>\n",
       "      <td>Instagram</td>\n",
       "      <td>2</td>\n",
       "      <td>DM</td>\n",
       "      <td>1600000</td>\n",
       "      <td>Pria</td>\n",
       "      <td>20 - 24</td>\n",
       "    </tr>\n",
       "    <tr>\n",
       "      <th>8</th>\n",
       "      <td>25</td>\n",
       "      <td>Yogyakarta</td>\n",
       "      <td>S1</td>\n",
       "      <td>Teman</td>\n",
       "      <td>3</td>\n",
       "      <td>WD</td>\n",
       "      <td>1600000</td>\n",
       "      <td>Pria</td>\n",
       "      <td>25 - 29</td>\n",
       "    </tr>\n",
       "    <tr>\n",
       "      <th>9</th>\n",
       "      <td>29</td>\n",
       "      <td>Jawa Tengah</td>\n",
       "      <td>S1</td>\n",
       "      <td>Instagram</td>\n",
       "      <td>2</td>\n",
       "      <td>DM</td>\n",
       "      <td>1600000</td>\n",
       "      <td>Pria</td>\n",
       "      <td>25 - 29</td>\n",
       "    </tr>\n",
       "    <tr>\n",
       "      <th>10</th>\n",
       "      <td>32</td>\n",
       "      <td>Jawa Barat</td>\n",
       "      <td>S1</td>\n",
       "      <td>Lainnya</td>\n",
       "      <td>1</td>\n",
       "      <td>WD</td>\n",
       "      <td>1500000</td>\n",
       "      <td>Pria</td>\n",
       "      <td>30 - 34</td>\n",
       "    </tr>\n",
       "    <tr>\n",
       "      <th>11</th>\n",
       "      <td>20</td>\n",
       "      <td>Jawa Tengah</td>\n",
       "      <td>SMA</td>\n",
       "      <td>Teman</td>\n",
       "      <td>3</td>\n",
       "      <td>WD</td>\n",
       "      <td>1500000</td>\n",
       "      <td>Pria</td>\n",
       "      <td>20 - 24</td>\n",
       "    </tr>\n",
       "    <tr>\n",
       "      <th>12</th>\n",
       "      <td>31</td>\n",
       "      <td>Jawa Timur</td>\n",
       "      <td>S1</td>\n",
       "      <td>Instagram</td>\n",
       "      <td>1</td>\n",
       "      <td>DM</td>\n",
       "      <td>1600000</td>\n",
       "      <td>Pria</td>\n",
       "      <td>30 - 34</td>\n",
       "    </tr>\n",
       "    <tr>\n",
       "      <th>13</th>\n",
       "      <td>23</td>\n",
       "      <td>Yogyakarta</td>\n",
       "      <td>S1</td>\n",
       "      <td>Teman</td>\n",
       "      <td>3</td>\n",
       "      <td>DM</td>\n",
       "      <td>1400000</td>\n",
       "      <td>Pria</td>\n",
       "      <td>20 - 24</td>\n",
       "    </tr>\n",
       "    <tr>\n",
       "      <th>14</th>\n",
       "      <td>28</td>\n",
       "      <td>Bali</td>\n",
       "      <td>S1</td>\n",
       "      <td>LinkedIn</td>\n",
       "      <td>2</td>\n",
       "      <td>DM</td>\n",
       "      <td>1500000</td>\n",
       "      <td>Pria</td>\n",
       "      <td>25 - 29</td>\n",
       "    </tr>\n",
       "    <tr>\n",
       "      <th>15</th>\n",
       "      <td>24</td>\n",
       "      <td>Jawa Tengah</td>\n",
       "      <td>S1</td>\n",
       "      <td>Instagram</td>\n",
       "      <td>1</td>\n",
       "      <td>DM</td>\n",
       "      <td>1400000</td>\n",
       "      <td>Pria</td>\n",
       "      <td>20 - 24</td>\n",
       "    </tr>\n",
       "    <tr>\n",
       "      <th>16</th>\n",
       "      <td>33</td>\n",
       "      <td>Papua</td>\n",
       "      <td>S1</td>\n",
       "      <td>Instagram</td>\n",
       "      <td>3</td>\n",
       "      <td>DM</td>\n",
       "      <td>1400000</td>\n",
       "      <td>Pria</td>\n",
       "      <td>30 - 34</td>\n",
       "    </tr>\n",
       "    <tr>\n",
       "      <th>17</th>\n",
       "      <td>27</td>\n",
       "      <td>Jawa Tengah</td>\n",
       "      <td>S1</td>\n",
       "      <td>Teman</td>\n",
       "      <td>2</td>\n",
       "      <td>DM</td>\n",
       "      <td>1500000</td>\n",
       "      <td>Pria</td>\n",
       "      <td>25 - 29</td>\n",
       "    </tr>\n",
       "    <tr>\n",
       "      <th>18</th>\n",
       "      <td>25</td>\n",
       "      <td>Yogyakarta</td>\n",
       "      <td>S1</td>\n",
       "      <td>Instagram</td>\n",
       "      <td>1</td>\n",
       "      <td>DM</td>\n",
       "      <td>1400000</td>\n",
       "      <td>Pria</td>\n",
       "      <td>25 - 29</td>\n",
       "    </tr>\n",
       "    <tr>\n",
       "      <th>19</th>\n",
       "      <td>30</td>\n",
       "      <td>Jawa Barat</td>\n",
       "      <td>S1</td>\n",
       "      <td>Lainnya</td>\n",
       "      <td>3</td>\n",
       "      <td>WD</td>\n",
       "      <td>800000</td>\n",
       "      <td>Pria</td>\n",
       "      <td>30 - 34</td>\n",
       "    </tr>\n",
       "    <tr>\n",
       "      <th>20</th>\n",
       "      <td>26</td>\n",
       "      <td>Jawa Tengah</td>\n",
       "      <td>S1</td>\n",
       "      <td>Instagram</td>\n",
       "      <td>2</td>\n",
       "      <td>WD</td>\n",
       "      <td>2000000</td>\n",
       "      <td>Pria</td>\n",
       "      <td>25 - 29</td>\n",
       "    </tr>\n",
       "    <tr>\n",
       "      <th>21</th>\n",
       "      <td>24</td>\n",
       "      <td>Yogyakarta</td>\n",
       "      <td>SMA</td>\n",
       "      <td>Instagram</td>\n",
       "      <td>1</td>\n",
       "      <td>WD</td>\n",
       "      <td>1100000</td>\n",
       "      <td>Pria</td>\n",
       "      <td>20 - 24</td>\n",
       "    </tr>\n",
       "    <tr>\n",
       "      <th>22</th>\n",
       "      <td>22</td>\n",
       "      <td>Jawa Tengah</td>\n",
       "      <td>S1</td>\n",
       "      <td>LinkedIn</td>\n",
       "      <td>3</td>\n",
       "      <td>DM</td>\n",
       "      <td>1600000</td>\n",
       "      <td>Pria</td>\n",
       "      <td>20 - 24</td>\n",
       "    </tr>\n",
       "    <tr>\n",
       "      <th>23</th>\n",
       "      <td>31</td>\n",
       "      <td>Sumatera Barat</td>\n",
       "      <td>S1</td>\n",
       "      <td>Teman</td>\n",
       "      <td>2</td>\n",
       "      <td>DM</td>\n",
       "      <td>1300000</td>\n",
       "      <td>Pria</td>\n",
       "      <td>30 - 34</td>\n",
       "    </tr>\n",
       "    <tr>\n",
       "      <th>24</th>\n",
       "      <td>25</td>\n",
       "      <td>Yogyakarta</td>\n",
       "      <td>S1</td>\n",
       "      <td>Lainnya</td>\n",
       "      <td>1</td>\n",
       "      <td>DM</td>\n",
       "      <td>2000000</td>\n",
       "      <td>Pria</td>\n",
       "      <td>25 - 29</td>\n",
       "    </tr>\n",
       "    <tr>\n",
       "      <th>25</th>\n",
       "      <td>27</td>\n",
       "      <td>Jawa Tengah</td>\n",
       "      <td>S1</td>\n",
       "      <td>Instagram</td>\n",
       "      <td>3</td>\n",
       "      <td>DM</td>\n",
       "      <td>1300000</td>\n",
       "      <td>Pria</td>\n",
       "      <td>25 - 29</td>\n",
       "    </tr>\n",
       "    <tr>\n",
       "      <th>26</th>\n",
       "      <td>23</td>\n",
       "      <td>Jawa Tengah</td>\n",
       "      <td>S1</td>\n",
       "      <td>Teman</td>\n",
       "      <td>2</td>\n",
       "      <td>WD</td>\n",
       "      <td>1500000</td>\n",
       "      <td>Pria</td>\n",
       "      <td>20 - 24</td>\n",
       "    </tr>\n",
       "    <tr>\n",
       "      <th>27</th>\n",
       "      <td>29</td>\n",
       "      <td>Jawa Barat</td>\n",
       "      <td>S1</td>\n",
       "      <td>Lainnya</td>\n",
       "      <td>1</td>\n",
       "      <td>WD</td>\n",
       "      <td>1700000</td>\n",
       "      <td>Pria</td>\n",
       "      <td>25 - 29</td>\n",
       "    </tr>\n",
       "    <tr>\n",
       "      <th>28</th>\n",
       "      <td>34</td>\n",
       "      <td>Papua</td>\n",
       "      <td>S1</td>\n",
       "      <td>Instagram</td>\n",
       "      <td>3</td>\n",
       "      <td>DM</td>\n",
       "      <td>1000000</td>\n",
       "      <td>Wanita</td>\n",
       "      <td>30 - 34</td>\n",
       "    </tr>\n",
       "    <tr>\n",
       "      <th>29</th>\n",
       "      <td>35</td>\n",
       "      <td>Bali</td>\n",
       "      <td>S1</td>\n",
       "      <td>Teman</td>\n",
       "      <td>2</td>\n",
       "      <td>WD</td>\n",
       "      <td>1300000</td>\n",
       "      <td>Pria</td>\n",
       "      <td>35 - 39</td>\n",
       "    </tr>\n",
       "    <tr>\n",
       "      <th>30</th>\n",
       "      <td>21</td>\n",
       "      <td>Yogyakarta</td>\n",
       "      <td>S1</td>\n",
       "      <td>LinkedIn</td>\n",
       "      <td>1</td>\n",
       "      <td>DM</td>\n",
       "      <td>900000</td>\n",
       "      <td>Pria</td>\n",
       "      <td>20 - 24</td>\n",
       "    </tr>\n",
       "    <tr>\n",
       "      <th>31</th>\n",
       "      <td>22</td>\n",
       "      <td>Jawa Tengah</td>\n",
       "      <td>S1</td>\n",
       "      <td>Instagram</td>\n",
       "      <td>3</td>\n",
       "      <td>WD</td>\n",
       "      <td>1100000</td>\n",
       "      <td>Pria</td>\n",
       "      <td>20 - 24</td>\n",
       "    </tr>\n",
       "    <tr>\n",
       "      <th>32</th>\n",
       "      <td>29</td>\n",
       "      <td>Jawa Barat</td>\n",
       "      <td>S1</td>\n",
       "      <td>Instagram</td>\n",
       "      <td>2</td>\n",
       "      <td>DM</td>\n",
       "      <td>1300000</td>\n",
       "      <td>Pria</td>\n",
       "      <td>25 - 29</td>\n",
       "    </tr>\n",
       "    <tr>\n",
       "      <th>33</th>\n",
       "      <td>30</td>\n",
       "      <td>Jawa Tengah</td>\n",
       "      <td>S1</td>\n",
       "      <td>Lainnya</td>\n",
       "      <td>1</td>\n",
       "      <td>DM</td>\n",
       "      <td>1300000</td>\n",
       "      <td>Pria</td>\n",
       "      <td>30 - 34</td>\n",
       "    </tr>\n",
       "    <tr>\n",
       "      <th>34</th>\n",
       "      <td>23</td>\n",
       "      <td>Yogyakarta</td>\n",
       "      <td>S1</td>\n",
       "      <td>Teman</td>\n",
       "      <td>3</td>\n",
       "      <td>WD</td>\n",
       "      <td>1800000</td>\n",
       "      <td>Pria</td>\n",
       "      <td>20 - 24</td>\n",
       "    </tr>\n",
       "    <tr>\n",
       "      <th>35</th>\n",
       "      <td>26</td>\n",
       "      <td>Sumatera Barat</td>\n",
       "      <td>S1</td>\n",
       "      <td>Instagram</td>\n",
       "      <td>2</td>\n",
       "      <td>DM</td>\n",
       "      <td>1200000</td>\n",
       "      <td>Wanita</td>\n",
       "      <td>25 - 29</td>\n",
       "    </tr>\n",
       "    <tr>\n",
       "      <th>36</th>\n",
       "      <td>24</td>\n",
       "      <td>Jawa Barat</td>\n",
       "      <td>S1</td>\n",
       "      <td>Teman</td>\n",
       "      <td>1</td>\n",
       "      <td>DM</td>\n",
       "      <td>1700000</td>\n",
       "      <td>Pria</td>\n",
       "      <td>20 - 24</td>\n",
       "    </tr>\n",
       "    <tr>\n",
       "      <th>37</th>\n",
       "      <td>28</td>\n",
       "      <td>Jawa Tengah</td>\n",
       "      <td>S1</td>\n",
       "      <td>Instagram</td>\n",
       "      <td>3</td>\n",
       "      <td>DM</td>\n",
       "      <td>1100000</td>\n",
       "      <td>Pria</td>\n",
       "      <td>25 - 29</td>\n",
       "    </tr>\n",
       "    <tr>\n",
       "      <th>38</th>\n",
       "      <td>30</td>\n",
       "      <td>Jawa Barat</td>\n",
       "      <td>S1</td>\n",
       "      <td>LinkedIn</td>\n",
       "      <td>2</td>\n",
       "      <td>DM</td>\n",
       "      <td>900000</td>\n",
       "      <td>Pria</td>\n",
       "      <td>30 - 34</td>\n",
       "    </tr>\n",
       "    <tr>\n",
       "      <th>39</th>\n",
       "      <td>25</td>\n",
       "      <td>Yogyakarta</td>\n",
       "      <td>S1</td>\n",
       "      <td>Lainnya</td>\n",
       "      <td>1</td>\n",
       "      <td>DM</td>\n",
       "      <td>1400000</td>\n",
       "      <td>Pria</td>\n",
       "      <td>25 - 29</td>\n",
       "    </tr>\n",
       "    <tr>\n",
       "      <th>40</th>\n",
       "      <td>33</td>\n",
       "      <td>Bali</td>\n",
       "      <td>S1</td>\n",
       "      <td>Instagram</td>\n",
       "      <td>3</td>\n",
       "      <td>WD</td>\n",
       "      <td>1800000</td>\n",
       "      <td>Pria</td>\n",
       "      <td>30 - 34</td>\n",
       "    </tr>\n",
       "    <tr>\n",
       "      <th>41</th>\n",
       "      <td>34</td>\n",
       "      <td>Papua</td>\n",
       "      <td>S1</td>\n",
       "      <td>Instagram</td>\n",
       "      <td>2</td>\n",
       "      <td>WD</td>\n",
       "      <td>1400000</td>\n",
       "      <td>Pria</td>\n",
       "      <td>30 - 34</td>\n",
       "    </tr>\n",
       "    <tr>\n",
       "      <th>42</th>\n",
       "      <td>27</td>\n",
       "      <td>Jawa Barat</td>\n",
       "      <td>S1</td>\n",
       "      <td>LinkedIn</td>\n",
       "      <td>1</td>\n",
       "      <td>DM</td>\n",
       "      <td>1500000</td>\n",
       "      <td>Wanita</td>\n",
       "      <td>25 - 29</td>\n",
       "    </tr>\n",
       "    <tr>\n",
       "      <th>43</th>\n",
       "      <td>24</td>\n",
       "      <td>Jawa Tengah</td>\n",
       "      <td>S1</td>\n",
       "      <td>Lainnya</td>\n",
       "      <td>3</td>\n",
       "      <td>WD</td>\n",
       "      <td>1500000</td>\n",
       "      <td>Pria</td>\n",
       "      <td>20 - 24</td>\n",
       "    </tr>\n",
       "    <tr>\n",
       "      <th>44</th>\n",
       "      <td>29</td>\n",
       "      <td>Sumatera Barat</td>\n",
       "      <td>S1</td>\n",
       "      <td>Teman</td>\n",
       "      <td>2</td>\n",
       "      <td>DM</td>\n",
       "      <td>1400000</td>\n",
       "      <td>Wanita</td>\n",
       "      <td>25 - 29</td>\n",
       "    </tr>\n",
       "    <tr>\n",
       "      <th>45</th>\n",
       "      <td>32</td>\n",
       "      <td>Jawa Tengah</td>\n",
       "      <td>SMA</td>\n",
       "      <td>Twitter</td>\n",
       "      <td>1</td>\n",
       "      <td>DM</td>\n",
       "      <td>1700000</td>\n",
       "      <td>Pria</td>\n",
       "      <td>30 - 34</td>\n",
       "    </tr>\n",
       "    <tr>\n",
       "      <th>46</th>\n",
       "      <td>23</td>\n",
       "      <td>Jawa Barat</td>\n",
       "      <td>S1</td>\n",
       "      <td>Instagram</td>\n",
       "      <td>3</td>\n",
       "      <td>DM</td>\n",
       "      <td>1600000</td>\n",
       "      <td>Pria</td>\n",
       "      <td>20 - 24</td>\n",
       "    </tr>\n",
       "    <tr>\n",
       "      <th>47</th>\n",
       "      <td>39</td>\n",
       "      <td>Yogyakarta</td>\n",
       "      <td>S1</td>\n",
       "      <td>Teman</td>\n",
       "      <td>2</td>\n",
       "      <td>WD</td>\n",
       "      <td>1000000</td>\n",
       "      <td>Pria</td>\n",
       "      <td>35 - 39</td>\n",
       "    </tr>\n",
       "    <tr>\n",
       "      <th>48</th>\n",
       "      <td>33</td>\n",
       "      <td>Bali</td>\n",
       "      <td>S1</td>\n",
       "      <td>Lainnya</td>\n",
       "      <td>1</td>\n",
       "      <td>DM</td>\n",
       "      <td>1600000</td>\n",
       "      <td>Wanita</td>\n",
       "      <td>30 - 34</td>\n",
       "    </tr>\n",
       "    <tr>\n",
       "      <th>49</th>\n",
       "      <td>20</td>\n",
       "      <td>Jawa Barat</td>\n",
       "      <td>S1</td>\n",
       "      <td>Twitter</td>\n",
       "      <td>3</td>\n",
       "      <td>WD</td>\n",
       "      <td>900000</td>\n",
       "      <td>Pria</td>\n",
       "      <td>20 - 24</td>\n",
       "    </tr>\n",
       "  </tbody>\n",
       "</table>\n",
       "</div>"
      ],
      "text/plain": [
       "    Umur     Asal_Daerah Pendidikan Informasi_Purwadhika  Tingkat_Kemampuan  \\\n",
       "0     26     Jawa Tengah         S1            Instagram                  2   \n",
       "1     23      Yogyakarta         S1                Teman                  3   \n",
       "2     30     Jawa Tengah         S1              Lainnya                  2   \n",
       "3     27            Bali         S1                Teman                  3   \n",
       "4     24     Jawa Tengah         S1              Lainnya                  1   \n",
       "5     21      Jawa Barat         S1             LinkedIn                  2   \n",
       "6     28      Yogyakarta         S1            Instagram                  1   \n",
       "7     22      Jawa Barat        SMA            Instagram                  2   \n",
       "8     25      Yogyakarta         S1                Teman                  3   \n",
       "9     29     Jawa Tengah         S1            Instagram                  2   \n",
       "10    32      Jawa Barat         S1              Lainnya                  1   \n",
       "11    20     Jawa Tengah        SMA                Teman                  3   \n",
       "12    31      Jawa Timur         S1            Instagram                  1   \n",
       "13    23      Yogyakarta         S1                Teman                  3   \n",
       "14    28            Bali         S1             LinkedIn                  2   \n",
       "15    24     Jawa Tengah         S1            Instagram                  1   \n",
       "16    33           Papua         S1            Instagram                  3   \n",
       "17    27     Jawa Tengah         S1                Teman                  2   \n",
       "18    25      Yogyakarta         S1            Instagram                  1   \n",
       "19    30      Jawa Barat         S1              Lainnya                  3   \n",
       "20    26     Jawa Tengah         S1            Instagram                  2   \n",
       "21    24      Yogyakarta        SMA            Instagram                  1   \n",
       "22    22     Jawa Tengah         S1             LinkedIn                  3   \n",
       "23    31  Sumatera Barat         S1                Teman                  2   \n",
       "24    25      Yogyakarta         S1              Lainnya                  1   \n",
       "25    27     Jawa Tengah         S1            Instagram                  3   \n",
       "26    23     Jawa Tengah         S1                Teman                  2   \n",
       "27    29      Jawa Barat         S1              Lainnya                  1   \n",
       "28    34           Papua         S1            Instagram                  3   \n",
       "29    35            Bali         S1                Teman                  2   \n",
       "30    21      Yogyakarta         S1             LinkedIn                  1   \n",
       "31    22     Jawa Tengah         S1            Instagram                  3   \n",
       "32    29      Jawa Barat         S1            Instagram                  2   \n",
       "33    30     Jawa Tengah         S1              Lainnya                  1   \n",
       "34    23      Yogyakarta         S1                Teman                  3   \n",
       "35    26  Sumatera Barat         S1            Instagram                  2   \n",
       "36    24      Jawa Barat         S1                Teman                  1   \n",
       "37    28     Jawa Tengah         S1            Instagram                  3   \n",
       "38    30      Jawa Barat         S1             LinkedIn                  2   \n",
       "39    25      Yogyakarta         S1              Lainnya                  1   \n",
       "40    33            Bali         S1            Instagram                  3   \n",
       "41    34           Papua         S1            Instagram                  2   \n",
       "42    27      Jawa Barat         S1             LinkedIn                  1   \n",
       "43    24     Jawa Tengah         S1              Lainnya                  3   \n",
       "44    29  Sumatera Barat         S1                Teman                  2   \n",
       "45    32     Jawa Tengah        SMA              Twitter                  1   \n",
       "46    23      Jawa Barat         S1            Instagram                  3   \n",
       "47    39      Yogyakarta         S1                Teman                  2   \n",
       "48    33            Bali         S1              Lainnya                  1   \n",
       "49    20      Jawa Barat         S1              Twitter                  3   \n",
       "\n",
       "   kelas  Pengeluaran_Bulanan  gender Kelompok_Umur  \n",
       "0     DM              1200000    Pria       25 - 29  \n",
       "1     WD              2000000    Pria       20 - 24  \n",
       "2     DM              1600000    Pria       30 - 34  \n",
       "3     DM              1100000    Pria       25 - 29  \n",
       "4     WD              1200000    Pria       20 - 24  \n",
       "5     WD              1500000    Pria       20 - 24  \n",
       "6     WD              1400000    Pria       25 - 29  \n",
       "7     DM              1600000    Pria       20 - 24  \n",
       "8     WD              1600000    Pria       25 - 29  \n",
       "9     DM              1600000    Pria       25 - 29  \n",
       "10    WD              1500000    Pria       30 - 34  \n",
       "11    WD              1500000    Pria       20 - 24  \n",
       "12    DM              1600000    Pria       30 - 34  \n",
       "13    DM              1400000    Pria       20 - 24  \n",
       "14    DM              1500000    Pria       25 - 29  \n",
       "15    DM              1400000    Pria       20 - 24  \n",
       "16    DM              1400000    Pria       30 - 34  \n",
       "17    DM              1500000    Pria       25 - 29  \n",
       "18    DM              1400000    Pria       25 - 29  \n",
       "19    WD               800000    Pria       30 - 34  \n",
       "20    WD              2000000    Pria       25 - 29  \n",
       "21    WD              1100000    Pria       20 - 24  \n",
       "22    DM              1600000    Pria       20 - 24  \n",
       "23    DM              1300000    Pria       30 - 34  \n",
       "24    DM              2000000    Pria       25 - 29  \n",
       "25    DM              1300000    Pria       25 - 29  \n",
       "26    WD              1500000    Pria       20 - 24  \n",
       "27    WD              1700000    Pria       25 - 29  \n",
       "28    DM              1000000  Wanita       30 - 34  \n",
       "29    WD              1300000    Pria       35 - 39  \n",
       "30    DM               900000    Pria       20 - 24  \n",
       "31    WD              1100000    Pria       20 - 24  \n",
       "32    DM              1300000    Pria       25 - 29  \n",
       "33    DM              1300000    Pria       30 - 34  \n",
       "34    WD              1800000    Pria       20 - 24  \n",
       "35    DM              1200000  Wanita       25 - 29  \n",
       "36    DM              1700000    Pria       20 - 24  \n",
       "37    DM              1100000    Pria       25 - 29  \n",
       "38    DM               900000    Pria       30 - 34  \n",
       "39    DM              1400000    Pria       25 - 29  \n",
       "40    WD              1800000    Pria       30 - 34  \n",
       "41    WD              1400000    Pria       30 - 34  \n",
       "42    DM              1500000  Wanita       25 - 29  \n",
       "43    WD              1500000    Pria       20 - 24  \n",
       "44    DM              1400000  Wanita       25 - 29  \n",
       "45    DM              1700000    Pria       30 - 34  \n",
       "46    DM              1600000    Pria       20 - 24  \n",
       "47    WD              1000000    Pria       35 - 39  \n",
       "48    DM              1600000  Wanita       30 - 34  \n",
       "49    WD               900000    Pria       20 - 24  "
      ]
     },
     "execution_count": 3,
     "metadata": {},
     "output_type": "execute_result"
    }
   ],
   "source": [
    "# MEMBUAT FUNGSI KELOMPOK UMUR\n",
    "def kelompok_umur(umur):\n",
    "    if 20 <= umur <= 24:\n",
    "        return '20 - 24'\n",
    "    elif 25 <= umur <= 29:\n",
    "        return '25 - 29'\n",
    "    elif 30 <= umur <= 34:\n",
    "        return '30 - 34'\n",
    "    elif 35 <= umur <= 39:\n",
    "        return '35 - 39'\n",
    "    else:\n",
    "        return 'Di luar rentang'\n",
    "\n",
    "# MENERAPKAN FUNGSI KELOMPOK UMUR\n",
    "df['Kelompok_Umur'] = df['Umur'].apply(kelompok_umur)\n",
    "\n",
    "# MENAMPILKAN DF\n",
    "df"
   ]
  },
  {
   "cell_type": "markdown",
   "metadata": {
    "id": "pQCflf--l0F6"
   },
   "source": [
    "Setelah dilakukan penerapan fungsi kelompok umur, siswa Purwadhika terbagi dalam empat kelompok umur:\n",
    "\n",
    "1.  20 - 24 tahun\n",
    "2.  25 - 29 tahun\n",
    "3.  30 - 34 tahun\n",
    "4.  35 - 39 tahun"
   ]
  },
  {
   "cell_type": "markdown",
   "metadata": {
    "id": "jmEeIhQPexp2"
   },
   "source": [
    "## b. CEK DATA TYPES"
   ]
  },
  {
   "cell_type": "code",
   "execution_count": 4,
   "metadata": {
    "colab": {
     "base_uri": "https://localhost:8080/"
    },
    "id": "7jBZHMhi18dL",
    "outputId": "76653f3d-fe2e-4164-cacb-6d08c4598fdc"
   },
   "outputs": [
    {
     "name": "stdout",
     "output_type": "stream",
     "text": [
      "<class 'pandas.core.frame.DataFrame'>\n",
      "RangeIndex: 50 entries, 0 to 49\n",
      "Data columns (total 9 columns):\n",
      " #   Column                Non-Null Count  Dtype \n",
      "---  ------                --------------  ----- \n",
      " 0   Umur                  50 non-null     int64 \n",
      " 1   Asal_Daerah           50 non-null     object\n",
      " 2   Pendidikan            50 non-null     object\n",
      " 3   Informasi_Purwadhika  50 non-null     object\n",
      " 4   Tingkat_Kemampuan     50 non-null     int64 \n",
      " 5   kelas                 50 non-null     object\n",
      " 6   Pengeluaran_Bulanan   50 non-null     int64 \n",
      " 7   gender                50 non-null     object\n",
      " 8   Kelompok_Umur         50 non-null     object\n",
      "dtypes: int64(3), object(6)\n",
      "memory usage: 3.6+ KB\n"
     ]
    }
   ],
   "source": [
    "# Cek Data Types\n",
    "\n",
    "df.info()"
   ]
  },
  {
   "cell_type": "markdown",
   "metadata": {
    "id": "1eMNuONckF-E"
   },
   "source": [
    "KESIMPULAN:\n",
    "\n",
    "Terdapat\n",
    "\n",
    "- **3 Kolom** dengan Type Data **Interger**\n",
    "  - Umur, Tingkat Kemampuan, Pengeluaran Bulanan\n",
    "- **7 Kolom** dengan Type Data **String**\n",
    "  - Asal Daerah, Pendidikan, Informasi Purwadhika, kelas, gender, Kelompok_Umur"
   ]
  },
  {
   "cell_type": "markdown",
   "metadata": {
    "id": "wed_Qx74e4mc"
   },
   "source": [
    "c. MELAKUKAN PENCARIAN MISSING VALUE"
   ]
  },
  {
   "cell_type": "code",
   "execution_count": 5,
   "metadata": {
    "colab": {
     "base_uri": "https://localhost:8080/",
     "height": 362
    },
    "id": "MUSP5m7J2CIO",
    "outputId": "5a7488ee-d163-4664-e606-dfc9ca77b907"
   },
   "outputs": [
    {
     "data": {
      "text/plain": [
       "Umur                    0\n",
       "Asal_Daerah             0\n",
       "Pendidikan              0\n",
       "Informasi_Purwadhika    0\n",
       "Tingkat_Kemampuan       0\n",
       "kelas                   0\n",
       "Pengeluaran_Bulanan     0\n",
       "gender                  0\n",
       "Kelompok_Umur           0\n",
       "dtype: int64"
      ]
     },
     "execution_count": 5,
     "metadata": {},
     "output_type": "execute_result"
    }
   ],
   "source": [
    "# Menghitung jumlah missing values\n",
    "df.isna().sum()"
   ]
  },
  {
   "cell_type": "markdown",
   "metadata": {
    "id": "jb2Hu3bhlKNW"
   },
   "source": [
    "KESIMPULAN:\n",
    "\n",
    "**Tidak ada Missing Value**"
   ]
  },
  {
   "cell_type": "markdown",
   "metadata": {
    "id": "OzihwCJVe-T8"
   },
   "source": [
    "## c. MELAKUKAN PENCARIAN STATISTIKA DESKRIPTIF"
   ]
  },
  {
   "cell_type": "code",
   "execution_count": 6,
   "metadata": {
    "colab": {
     "base_uri": "https://localhost:8080/",
     "height": 297
    },
    "id": "n5B6DVbZ2Z8I",
    "outputId": "891022aa-e504-4864-a79b-344e97b952dc"
   },
   "outputs": [
    {
     "data": {
      "text/html": [
       "<div>\n",
       "<style scoped>\n",
       "    .dataframe tbody tr th:only-of-type {\n",
       "        vertical-align: middle;\n",
       "    }\n",
       "\n",
       "    .dataframe tbody tr th {\n",
       "        vertical-align: top;\n",
       "    }\n",
       "\n",
       "    .dataframe thead th {\n",
       "        text-align: right;\n",
       "    }\n",
       "</style>\n",
       "<table border=\"1\" class=\"dataframe\">\n",
       "  <thead>\n",
       "    <tr style=\"text-align: right;\">\n",
       "      <th></th>\n",
       "      <th>Umur</th>\n",
       "      <th>Tingkat_Kemampuan</th>\n",
       "      <th>Pengeluaran_Bulanan</th>\n",
       "    </tr>\n",
       "  </thead>\n",
       "  <tbody>\n",
       "    <tr>\n",
       "      <th>count</th>\n",
       "      <td>50.000000</td>\n",
       "      <td>50.000000</td>\n",
       "      <td>5.000000e+01</td>\n",
       "    </tr>\n",
       "    <tr>\n",
       "      <th>mean</th>\n",
       "      <td>27.120000</td>\n",
       "      <td>2.020000</td>\n",
       "      <td>1.414000e+06</td>\n",
       "    </tr>\n",
       "    <tr>\n",
       "      <th>std</th>\n",
       "      <td>4.378239</td>\n",
       "      <td>0.820403</td>\n",
       "      <td>2.864348e+05</td>\n",
       "    </tr>\n",
       "    <tr>\n",
       "      <th>min</th>\n",
       "      <td>20.000000</td>\n",
       "      <td>1.000000</td>\n",
       "      <td>8.000000e+05</td>\n",
       "    </tr>\n",
       "    <tr>\n",
       "      <th>25%</th>\n",
       "      <td>24.000000</td>\n",
       "      <td>1.000000</td>\n",
       "      <td>1.225000e+06</td>\n",
       "    </tr>\n",
       "    <tr>\n",
       "      <th>50%</th>\n",
       "      <td>27.000000</td>\n",
       "      <td>2.000000</td>\n",
       "      <td>1.400000e+06</td>\n",
       "    </tr>\n",
       "    <tr>\n",
       "      <th>75%</th>\n",
       "      <td>30.000000</td>\n",
       "      <td>3.000000</td>\n",
       "      <td>1.600000e+06</td>\n",
       "    </tr>\n",
       "    <tr>\n",
       "      <th>max</th>\n",
       "      <td>39.000000</td>\n",
       "      <td>3.000000</td>\n",
       "      <td>2.000000e+06</td>\n",
       "    </tr>\n",
       "  </tbody>\n",
       "</table>\n",
       "</div>"
      ],
      "text/plain": [
       "            Umur  Tingkat_Kemampuan  Pengeluaran_Bulanan\n",
       "count  50.000000          50.000000         5.000000e+01\n",
       "mean   27.120000           2.020000         1.414000e+06\n",
       "std     4.378239           0.820403         2.864348e+05\n",
       "min    20.000000           1.000000         8.000000e+05\n",
       "25%    24.000000           1.000000         1.225000e+06\n",
       "50%    27.000000           2.000000         1.400000e+06\n",
       "75%    30.000000           3.000000         1.600000e+06\n",
       "max    39.000000           3.000000         2.000000e+06"
      ]
     },
     "execution_count": 6,
     "metadata": {},
     "output_type": "execute_result"
    }
   ],
   "source": [
    "# STATISTIK DESKRIPTIF\n",
    "df.describe()"
   ]
  },
  {
   "cell_type": "markdown",
   "metadata": {
    "id": "LZ7HTWyVfkEg"
   },
   "source": [
    "## d. MELAKUKAN PEMBENTUKAN GRAFIK COUNT (NUMERIK)"
   ]
  },
  {
   "cell_type": "code",
   "execution_count": 7,
   "metadata": {
    "id": "fyW4mPhF3DaC"
   },
   "outputs": [],
   "source": [
    "# IMPORT LIBRARY UNTUK VISUALISASI\n",
    "import matplotlib.pyplot as plt\n",
    "import seaborn as sns"
   ]
  },
  {
   "cell_type": "code",
   "execution_count": 8,
   "metadata": {
    "colab": {
     "base_uri": "https://localhost:8080/",
     "height": 705
    },
    "id": "AVNdSXTw4SXM",
    "outputId": "635b1425-1b73-4161-c798-bf997cd833e2"
   },
   "outputs": [
    {
     "data": {
      "image/png": "[encoded data removed]",
      "text/plain": [
       "<Figure size 1500x1000 with 3 Axes>"
      ]
     },
     "metadata": {},
     "output_type": "display_data"
    }
   ],
   "source": [
    "# MENGAMBIL KOLOM YANG BERSIFAT NUMERIK\n",
    "numerik = df.select_dtypes(include = 'number') #FLOAT & INT\n",
    "\n",
    "# MENAMPILKAN HISTOGRAM\n",
    "plt.figure(figsize = (15,10)) # (kolom, bairs)\n",
    "posisi = 1\n",
    "for kolom in numerik.columns:\n",
    "    plt.subplot(2, 2, posisi) # (baris, kolom, posisi)\n",
    "    sns.histplot(df[kolom])\n",
    "    posisi += 1\n",
    "\n",
    "# mengeprint grafik\n",
    "plt.show()"
   ]
  },
  {
   "cell_type": "markdown",
   "metadata": {
    "id": "6K_Gwq79f5GW"
   },
   "source": [
    "## e. MELAKUKAN PENGUJIAN STATISTIKA *DISTRIBUSI*"
   ]
  },
  {
   "cell_type": "markdown",
   "metadata": {
    "id": "SQ995fKfrR0y"
   },
   "source": []
  },
  {
   "cell_type": "markdown",
   "metadata": {
    "id": "o99tbV3jmDNq"
   },
   "source": [
    "### 1 KOLMOGOROV SMIRNOV (KS Test)"
   ]
  },
  {
   "cell_type": "code",
   "execution_count": 9,
   "metadata": {
    "colab": {
     "base_uri": "https://localhost:8080/"
    },
    "id": "tyGUIVBv4Md9",
    "outputId": "8cd3e7ec-535c-4389-c52c-912b71e4f28f"
   },
   "outputs": [
    {
     "name": "stdout",
     "output_type": "stream",
     "text": [
      "p-value Umur adalah 0.0\n",
      "Distribusi Umur tidak normal (Tolak H0)\n",
      "p-value Tingkat_Kemampuan adalah 2.934018384393368e-40\n",
      "Distribusi Tingkat_Kemampuan tidak normal (Tolak H0)\n",
      "p-value Pengeluaran_Bulanan adalah 0.0\n",
      "Distribusi Pengeluaran_Bulanan tidak normal (Tolak H0)\n"
     ]
    }
   ],
   "source": [
    "# UJI NORMALITAS KS-TEST\n",
    "from scipy.stats import kstest\n",
    "\n",
    "for kolom in numerik.columns:\n",
    "    stat, pval = kstest(df[kolom],'norm')\n",
    "    if pval < 0.05:\n",
    "        print(f\"p-value {kolom} adalah {pval}\")\n",
    "        print(f'Distribusi {kolom} tidak normal (Tolak H0)')\n",
    "    else:\n",
    "        print(f\"p-value {kolom} adalah {pval}\")\n",
    "        print(f'Distribusi {kolom} normal (Terima H0)')\n"
   ]
  },
  {
   "cell_type": "markdown",
   "metadata": {
    "id": "V4RKM1U7mHCO"
   },
   "source": [
    "### 2 LILLIEFORS"
   ]
  },
  {
   "cell_type": "code",
   "execution_count": 10,
   "metadata": {
    "colab": {
     "base_uri": "https://localhost:8080/"
    },
    "id": "e1DRDEhL4Zs-",
    "outputId": "609d00e4-08a7-400e-d13d-b29893045d9b"
   },
   "outputs": [
    {
     "name": "stdout",
     "output_type": "stream",
     "text": [
      "p-value Umur adalah 0.1816271382752211\n",
      "Distribusi Umur normal (Terima H0)\n",
      "p-value Tingkat_Kemampuan adalah 0.0009999999999998899\n",
      "Distribusi Tingkat_Kemampuan tidak normal (Tolak H0)\n",
      "p-value Pengeluaran_Bulanan adalah 0.06693882699249934\n",
      "Distribusi Pengeluaran_Bulanan normal (Terima H0)\n"
     ]
    }
   ],
   "source": [
    "# UJI NORMALITAS LILLIEFORS\n",
    "from statsmodels.stats.diagnostic import lilliefors\n",
    "\n",
    "for kolom in numerik.columns:\n",
    "    stat, pval = lilliefors(df[kolom])\n",
    "    if pval < 0.05:\n",
    "        print(f\"p-value {kolom} adalah {pval}\")\n",
    "        print(f'Distribusi {kolom} tidak normal (Tolak H0)')\n",
    "    else:\n",
    "        print(f\"p-value {kolom} adalah {pval}\")\n",
    "        print(f'Distribusi {kolom} normal (Terima H0)')"
   ]
  },
  {
   "cell_type": "markdown",
   "metadata": {
    "id": "c_W1qHZ7mJ7A"
   },
   "source": [
    "### 3 SHAPIRO WILK"
   ]
  },
  {
   "cell_type": "code",
   "execution_count": 11,
   "metadata": {
    "colab": {
     "base_uri": "https://localhost:8080/"
    },
    "id": "cYzL8b5S4cMl",
    "outputId": "e8856af4-fd7e-4a4b-9538-1d0417ea5e87"
   },
   "outputs": [
    {
     "name": "stdout",
     "output_type": "stream",
     "text": [
      "p-value Umur adalah 0.20319035795691776\n",
      "Distribusi Umur normal (Terima H0)\n",
      "p-value Tingkat_Kemampuan adalah 6.754066001941224e-07\n",
      "Distribusi Tingkat_Kemampuan tidak normal (Tolak H0)\n",
      "p-value Pengeluaran_Bulanan adalah 0.24021278225444082\n",
      "Distribusi Pengeluaran_Bulanan normal (Terima H0)\n"
     ]
    }
   ],
   "source": [
    "# UJI NORMALITAS SHAPIRO-WILK\n",
    "from scipy.stats import shapiro\n",
    "\n",
    "for kolom in numerik.columns:\n",
    "  stat, pval = shapiro(df[kolom])\n",
    "  if pval < 0.05:\n",
    "        print(f\"p-value {kolom} adalah {pval}\")\n",
    "        print(f'Distribusi {kolom} tidak normal (Tolak H0)')\n",
    "  else:\n",
    "        print(f\"p-value {kolom} adalah {pval}\")\n",
    "        print(f'Distribusi {kolom} normal (Terima H0)')"
   ]
  },
  {
   "cell_type": "markdown",
   "metadata": {
    "id": "8j7jYUDAmMOQ"
   },
   "source": [
    "### 4 D'AGUSTINO PEARSON"
   ]
  },
  {
   "cell_type": "code",
   "execution_count": 12,
   "metadata": {
    "colab": {
     "base_uri": "https://localhost:8080/"
    },
    "id": "5s8MuL5349W3",
    "outputId": "cb33bece-7e43-4f01-93ce-e2e4de1f31e7"
   },
   "outputs": [
    {
     "name": "stdout",
     "output_type": "stream",
     "text": [
      "p-value Umur adalah 0.36992993264355056\n",
      "Distribusi Umur normal (Terima H0)\n",
      "p-value Tingkat_Kemampuan adalah 3.577663954032605e-09\n",
      "Distribusi Tingkat_Kemampuan tidak normal (Tolak H0)\n",
      "p-value Pengeluaran_Bulanan adalah 0.9622851365784326\n",
      "Distribusi Pengeluaran_Bulanan normal (Terima H0)\n"
     ]
    }
   ],
   "source": [
    "# UJI NORMALITAS D'AGUSTINO PEARSON\n",
    "from scipy.stats import normaltest\n",
    "\n",
    "for kolom in numerik.columns:\n",
    "    stat, pval = normaltest(df[kolom])\n",
    "    if pval < 0.05:\n",
    "        print(f\"p-value {kolom} adalah {pval}\")\n",
    "        print(f'Distribusi {kolom} tidak normal (Tolak H0)')\n",
    "    else:\n",
    "        print(f\"p-value {kolom} adalah {pval}\")\n",
    "        print(f'Distribusi {kolom} normal (Terima H0)')"
   ]
  },
  {
   "cell_type": "markdown",
   "metadata": {
    "id": "G1ujXNkdmRDd"
   },
   "source": [
    "### 5 SEMUA UJI"
   ]
  },
  {
   "cell_type": "code",
   "execution_count": 13,
   "metadata": {
    "colab": {
     "base_uri": "https://localhost:8080/",
     "height": 264
    },
    "id": "4bjUkge0lW9l",
    "outputId": "9e3abe08-41f0-40bd-a681-11c682a3a9d5"
   },
   "outputs": [
    {
     "name": "stdout",
     "output_type": "stream",
     "text": [
      "H0 = Data berdistribusi normal\n",
      "H1 = Data tidak berdistribusi normal\n"
     ]
    },
    {
     "data": {
      "text/html": [
       "<div>\n",
       "<style scoped>\n",
       "    .dataframe tbody tr th:only-of-type {\n",
       "        vertical-align: middle;\n",
       "    }\n",
       "\n",
       "    .dataframe tbody tr th {\n",
       "        vertical-align: top;\n",
       "    }\n",
       "\n",
       "    .dataframe thead th {\n",
       "        text-align: right;\n",
       "    }\n",
       "</style>\n",
       "<table border=\"1\" class=\"dataframe\">\n",
       "  <thead>\n",
       "    <tr style=\"text-align: right;\">\n",
       "      <th></th>\n",
       "      <th>Kolom</th>\n",
       "      <th>KS_p-value</th>\n",
       "      <th>Shapiro_p-value</th>\n",
       "      <th>Pearson_p-value</th>\n",
       "      <th>Lilliefors_p-value</th>\n",
       "      <th>KS_Result</th>\n",
       "      <th>Shapiro_Result</th>\n",
       "      <th>Lilliefors_Result</th>\n",
       "      <th>Pearson_Result</th>\n",
       "    </tr>\n",
       "  </thead>\n",
       "  <tbody>\n",
       "    <tr>\n",
       "      <th>0</th>\n",
       "      <td>Umur</td>\n",
       "      <td>0.000000e+00</td>\n",
       "      <td>2.031904e-01</td>\n",
       "      <td>3.699299e-01</td>\n",
       "      <td>0.181627</td>\n",
       "      <td>Tolak H0</td>\n",
       "      <td>Gagal Menolak H0</td>\n",
       "      <td>Gagal Menolak H0</td>\n",
       "      <td>Gagal Menolak H0</td>\n",
       "    </tr>\n",
       "    <tr>\n",
       "      <th>1</th>\n",
       "      <td>Tingkat_Kemampuan</td>\n",
       "      <td>2.934018e-40</td>\n",
       "      <td>6.754066e-07</td>\n",
       "      <td>3.577664e-09</td>\n",
       "      <td>0.001000</td>\n",
       "      <td>Tolak H0</td>\n",
       "      <td>Tolak H0</td>\n",
       "      <td>Tolak H0</td>\n",
       "      <td>Tolak H0</td>\n",
       "    </tr>\n",
       "    <tr>\n",
       "      <th>2</th>\n",
       "      <td>Pengeluaran_Bulanan</td>\n",
       "      <td>0.000000e+00</td>\n",
       "      <td>2.402128e-01</td>\n",
       "      <td>9.622851e-01</td>\n",
       "      <td>0.066939</td>\n",
       "      <td>Tolak H0</td>\n",
       "      <td>Gagal Menolak H0</td>\n",
       "      <td>Gagal Menolak H0</td>\n",
       "      <td>Gagal Menolak H0</td>\n",
       "    </tr>\n",
       "  </tbody>\n",
       "</table>\n",
       "</div>"
      ],
      "text/plain": [
       "                 Kolom    KS_p-value  Shapiro_p-value  Pearson_p-value  \\\n",
       "0                 Umur  0.000000e+00     2.031904e-01     3.699299e-01   \n",
       "1    Tingkat_Kemampuan  2.934018e-40     6.754066e-07     3.577664e-09   \n",
       "2  Pengeluaran_Bulanan  0.000000e+00     2.402128e-01     9.622851e-01   \n",
       "\n",
       "   Lilliefors_p-value KS_Result    Shapiro_Result Lilliefors_Result  \\\n",
       "0            0.181627  Tolak H0  Gagal Menolak H0  Gagal Menolak H0   \n",
       "1            0.001000  Tolak H0          Tolak H0          Tolak H0   \n",
       "2            0.066939  Tolak H0  Gagal Menolak H0  Gagal Menolak H0   \n",
       "\n",
       "     Pearson_Result  \n",
       "0  Gagal Menolak H0  \n",
       "1          Tolak H0  \n",
       "2  Gagal Menolak H0  "
      ]
     },
     "execution_count": 13,
     "metadata": {},
     "output_type": "execute_result"
    }
   ],
   "source": [
    "from scipy.stats import shapiro, kstest\n",
    "from statsmodels.stats.diagnostic import lilliefors\n",
    "\n",
    "# Asumsikan df adalah DataFrame yang sudah ada\n",
    "numerik = df.select_dtypes(include='number')\n",
    "\n",
    "# Untuk menyimpan hasil\n",
    "results = []\n",
    "\n",
    "print(\"H0 = Data berdistribusi normal\")\n",
    "print(\"H1 = Data tidak berdistribusi normal\")\n",
    "\n",
    "for kolom in numerik.columns:\n",
    "    # Kolmogorov-Smirnov Test\n",
    "    ks_stat, ks_pval = kstest(df[kolom], 'norm')\n",
    "\n",
    "    # Shapiro-Wilk Test\n",
    "    shapiro_stat, shapiro_pval = shapiro(df[kolom])\n",
    "\n",
    "    # Lilliefors Test\n",
    "    lilliefors_stat, lilliefors_pval = lilliefors(df[kolom])\n",
    "\n",
    "    # D'Agustino Pearson Test\n",
    "    normaltest_stat, normaltest_pval = normaltest(df[kolom])\n",
    "\n",
    "    # Menentukan hasil\n",
    "    results.append({\n",
    "        'Kolom': kolom,\n",
    "        'KS_p-value': ks_pval,\n",
    "        'Shapiro_p-value': shapiro_pval,\n",
    "        'Pearson_p-value': normaltest_pval,\n",
    "        'Lilliefors_p-value': lilliefors_pval,\n",
    "        'KS_Result': 'Tolak H0' if ks_pval < 0.05 else 'Gagal Menolak H0',\n",
    "        'Shapiro_Result': 'Tolak H0' if shapiro_pval < 0.05 else 'Gagal Menolak H0',\n",
    "        'Lilliefors_Result': 'Tolak H0' if lilliefors_pval < 0.05 else 'Gagal Menolak H0',\n",
    "        'Pearson_Result': 'Tolak H0' if normaltest_pval < 0.05 else 'Gagal Menolak H0'\n",
    "    })\n",
    "\n",
    "# Mengubah hasil menjadi DataFrame\n",
    "results_df = pd.DataFrame(results)\n",
    "\n",
    "# Tampilkan hasil\n",
    "results_df"
   ]
  },
  {
   "cell_type": "markdown",
   "metadata": {
    "id": "wZZyMzxLsliR"
   },
   "source": [
    "### BOX PLOT VARIABEL"
   ]
  },
  {
   "cell_type": "code",
   "execution_count": 14,
   "metadata": {
    "colab": {
     "base_uri": "https://localhost:8080/",
     "height": 497
    },
    "id": "KENgbPRO5M41",
    "outputId": "1a291803-bddf-471c-db24-3756275ede57"
   },
   "outputs": [
    {
     "data": {
      "image/png": "[encoded data removed]",
      "text/plain": [
       "<Figure size 1500x1000 with 3 Axes>"
      ]
     },
     "metadata": {},
     "output_type": "display_data"
    }
   ],
   "source": [
    "# ambil kolom yang numerik\n",
    "numerik = df.select_dtypes(include = 'number') # float dan int\n",
    "\n",
    "plt.figure(figsize = (15,10)) # (kolom, bairs)\n",
    "posisi = 1\n",
    "for kolom in numerik.columns:\n",
    "    plt.subplot(3, 2, posisi) # (baris, kolom, posisi)\n",
    "    sns.boxplot(x = df[kolom])\n",
    "    posisi += 1\n",
    "\n",
    "# mengeprint grafik\n",
    "plt.show()"
   ]
  },
  {
   "cell_type": "markdown",
   "metadata": {
    "id": "HpYPzsX8gBfu"
   },
   "source": [
    "## f. OUTLIERS"
   ]
  },
  {
   "cell_type": "code",
   "execution_count": 15,
   "metadata": {
    "colab": {
     "base_uri": "https://localhost:8080/",
     "height": 142
    },
    "id": "2rgBtAff5cHI",
    "outputId": "c6f721c9-064c-4003-b6fb-1cce5e2446d5"
   },
   "outputs": [
    {
     "data": {
      "text/html": [
       "<div>\n",
       "<style scoped>\n",
       "    .dataframe tbody tr th:only-of-type {\n",
       "        vertical-align: middle;\n",
       "    }\n",
       "\n",
       "    .dataframe tbody tr th {\n",
       "        vertical-align: top;\n",
       "    }\n",
       "\n",
       "    .dataframe thead th {\n",
       "        text-align: right;\n",
       "    }\n",
       "</style>\n",
       "<table border=\"1\" class=\"dataframe\">\n",
       "  <thead>\n",
       "    <tr style=\"text-align: right;\">\n",
       "      <th></th>\n",
       "      <th>kolom</th>\n",
       "      <th>jumlah_outliers</th>\n",
       "    </tr>\n",
       "  </thead>\n",
       "  <tbody>\n",
       "    <tr>\n",
       "      <th>0</th>\n",
       "      <td>Umur</td>\n",
       "      <td>0</td>\n",
       "    </tr>\n",
       "    <tr>\n",
       "      <th>1</th>\n",
       "      <td>Tingkat_Kemampuan</td>\n",
       "      <td>0</td>\n",
       "    </tr>\n",
       "    <tr>\n",
       "      <th>2</th>\n",
       "      <td>Pengeluaran_Bulanan</td>\n",
       "      <td>0</td>\n",
       "    </tr>\n",
       "  </tbody>\n",
       "</table>\n",
       "</div>"
      ],
      "text/plain": [
       "                 kolom  jumlah_outliers\n",
       "0                 Umur                0\n",
       "1    Tingkat_Kemampuan                0\n",
       "2  Pengeluaran_Bulanan                0"
      ]
     },
     "execution_count": 15,
     "metadata": {},
     "output_type": "execute_result"
    }
   ],
   "source": [
    "# IQR (TIDAK NORMAL)\n",
    "# TINGKAT KEMAMPUAN\n",
    "\n",
    "# ambil numerik saja\n",
    "numerik = df.select_dtypes(include = 'number')\n",
    "\n",
    "list_jumlah_outliers = []\n",
    "for kolom in numerik.columns:\n",
    "    q3 = numerik.describe().loc['75%', kolom]\n",
    "    q1 = numerik.describe().loc['25%', kolom]\n",
    "    iqr = q3 - q1\n",
    "    whis = 1.5 * iqr\n",
    "    batas_atas = q3 + whis\n",
    "    batas_bawah = q1 - whis\n",
    "\n",
    "    # jumlah outliers\n",
    "    jumlah_outliers = len(df[(df[kolom]>batas_atas) | (df[kolom]<batas_bawah)])\n",
    "    list_jumlah_outliers.append(jumlah_outliers)\n",
    "\n",
    "pd.DataFrame({\n",
    "                'kolom': numerik.columns,\n",
    "                'jumlah_outliers': list_jumlah_outliers\n",
    "})"
   ]
  },
  {
   "cell_type": "code",
   "execution_count": 16,
   "metadata": {
    "colab": {
     "base_uri": "https://localhost:8080/",
     "height": 142
    },
    "id": "Wa1ZkTCf5jTf",
    "outputId": "0b6ae2a8-bdb0-4904-9451-d3dab58a58cf"
   },
   "outputs": [
    {
     "data": {
      "text/html": [
       "<div>\n",
       "<style scoped>\n",
       "    .dataframe tbody tr th:only-of-type {\n",
       "        vertical-align: middle;\n",
       "    }\n",
       "\n",
       "    .dataframe tbody tr th {\n",
       "        vertical-align: top;\n",
       "    }\n",
       "\n",
       "    .dataframe thead th {\n",
       "        text-align: right;\n",
       "    }\n",
       "</style>\n",
       "<table border=\"1\" class=\"dataframe\">\n",
       "  <thead>\n",
       "    <tr style=\"text-align: right;\">\n",
       "      <th></th>\n",
       "      <th>kolom</th>\n",
       "      <th>jumlah_outliers</th>\n",
       "    </tr>\n",
       "  </thead>\n",
       "  <tbody>\n",
       "    <tr>\n",
       "      <th>0</th>\n",
       "      <td>Umur</td>\n",
       "      <td>0</td>\n",
       "    </tr>\n",
       "    <tr>\n",
       "      <th>1</th>\n",
       "      <td>Tingkat_Kemampuan</td>\n",
       "      <td>0</td>\n",
       "    </tr>\n",
       "    <tr>\n",
       "      <th>2</th>\n",
       "      <td>Pengeluaran_Bulanan</td>\n",
       "      <td>0</td>\n",
       "    </tr>\n",
       "  </tbody>\n",
       "</table>\n",
       "</div>"
      ],
      "text/plain": [
       "                 kolom  jumlah_outliers\n",
       "0                 Umur                0\n",
       "1    Tingkat_Kemampuan                0\n",
       "2  Pengeluaran_Bulanan                0"
      ]
     },
     "execution_count": 16,
     "metadata": {},
     "output_type": "execute_result"
    }
   ],
   "source": [
    "# Z-SCORE (NORMAL)\n",
    "# UMUR DAN BULANAN\n",
    "\n",
    "numerik = df.select_dtypes(include = 'number')\n",
    "list_jumlah_outliers = []\n",
    "for kolom in numerik.columns:\n",
    "    std = df[kolom].std()\n",
    "    mean = df[kolom].mean()\n",
    "\n",
    "    # menghitung zscore\n",
    "    zscore = abs((df[kolom] - mean) / std)\n",
    "\n",
    "    # mencari outliers\n",
    "    outliers = len(df[zscore > 3])\n",
    "    list_jumlah_outliers.append(outliers)\n",
    "\n",
    "pd.DataFrame({\n",
    "                'kolom': numerik.columns,\n",
    "                'jumlah_outliers': list_jumlah_outliers\n",
    "})"
   ]
  },
  {
   "cell_type": "markdown",
   "metadata": {
    "id": "MnsM5XKDX9_0"
   },
   "source": [
    "KESIMPULAN :\n",
    "Tidak ditemui outliers"
   ]
  },
  {
   "cell_type": "markdown",
   "metadata": {
    "id": "fYNvF5zRgPly"
   },
   "source": [
    "## g. KORELASI"
   ]
  },
  {
   "cell_type": "code",
   "execution_count": 17,
   "metadata": {
    "colab": {
     "base_uri": "https://localhost:8080/",
     "height": 142
    },
    "id": "v-NiV2_P5ocZ",
    "outputId": "f06ac1ae-b149-431b-c72c-51e5b44ab6f3"
   },
   "outputs": [
    {
     "data": {
      "text/html": [
       "<div>\n",
       "<style scoped>\n",
       "    .dataframe tbody tr th:only-of-type {\n",
       "        vertical-align: middle;\n",
       "    }\n",
       "\n",
       "    .dataframe tbody tr th {\n",
       "        vertical-align: top;\n",
       "    }\n",
       "\n",
       "    .dataframe thead th {\n",
       "        text-align: right;\n",
       "    }\n",
       "</style>\n",
       "<table border=\"1\" class=\"dataframe\">\n",
       "  <thead>\n",
       "    <tr style=\"text-align: right;\">\n",
       "      <th></th>\n",
       "      <th>Umur</th>\n",
       "      <th>Tingkat_Kemampuan</th>\n",
       "      <th>Pengeluaran_Bulanan</th>\n",
       "    </tr>\n",
       "  </thead>\n",
       "  <tbody>\n",
       "    <tr>\n",
       "      <th>Umur</th>\n",
       "      <td>1.000000</td>\n",
       "      <td>-0.137042</td>\n",
       "      <td>-0.112026</td>\n",
       "    </tr>\n",
       "    <tr>\n",
       "      <th>Tingkat_Kemampuan</th>\n",
       "      <td>-0.137042</td>\n",
       "      <td>1.000000</td>\n",
       "      <td>-0.114116</td>\n",
       "    </tr>\n",
       "    <tr>\n",
       "      <th>Pengeluaran_Bulanan</th>\n",
       "      <td>-0.112026</td>\n",
       "      <td>-0.114116</td>\n",
       "      <td>1.000000</td>\n",
       "    </tr>\n",
       "  </tbody>\n",
       "</table>\n",
       "</div>"
      ],
      "text/plain": [
       "                         Umur  Tingkat_Kemampuan  Pengeluaran_Bulanan\n",
       "Umur                 1.000000          -0.137042            -0.112026\n",
       "Tingkat_Kemampuan   -0.137042           1.000000            -0.114116\n",
       "Pengeluaran_Bulanan -0.112026          -0.114116             1.000000"
      ]
     },
     "execution_count": 17,
     "metadata": {},
     "output_type": "execute_result"
    }
   ],
   "source": [
    "# ambil numerik saja\n",
    "numerik = df.select_dtypes(include = 'number')\n",
    "\n",
    "numerik.corr()"
   ]
  },
  {
   "cell_type": "code",
   "execution_count": 18,
   "metadata": {
    "colab": {
     "base_uri": "https://localhost:8080/",
     "height": 589
    },
    "id": "jBVgE1qP97rw",
    "outputId": "7fba2496-a656-454b-8824-91a308f13c58"
   },
   "outputs": [
    {
     "data": {
      "text/plain": [
       "<Axes: >"
      ]
     },
     "execution_count": 18,
     "metadata": {},
     "output_type": "execute_result"
    },
    {
     "data": {
      "image/png": "[encoded data removed]",
      "text/plain": [
       "<Figure size 640x480 with 2 Axes>"
      ]
     },
     "metadata": {},
     "output_type": "display_data"
    }
   ],
   "source": [
    "sns.heatmap(numerik.corr(method = 'pearson'), annot = True)"
   ]
  },
  {
   "cell_type": "markdown",
   "metadata": {
    "id": "fdBpwAIGlsVg"
   },
   "source": [
    "Hasil Heatmap Pearson\n",
    "\n",
    "1. Umur vs Tingkat_Kemampuan (-0.14): Ada hubungan yang sangat lemah dan negatif. Secara umum nilai negatif menunjukkan kenaikan umur berbanding terbalik dengan tingkat kemampuan.\n",
    "2. Umur vs Pengeluaran_Bulanan (-0.11) : Ada hubungan yang sangat lemah dan negatif. Secara umum nilai negatif menunjukkan kenaikan umur berbanding terbalik dengan pengeluaran bulanan.\n",
    "3. Tingkat_Kemampuan vs Pengeluaran_Bulanan (-0.11) : Ada hubungan yang sangat lemah dan negatif. Secara umum nilai negatif menunjukkan kenaikan tingkat kemampuan berbanding terbalik dengan pengeluaran bulanan."
   ]
  },
  {
   "cell_type": "markdown",
   "metadata": {
    "id": "Z19URXQNgZ1m"
   },
   "source": [
    "## h. PAIRPLOT"
   ]
  },
  {
   "cell_type": "code",
   "execution_count": 19,
   "metadata": {
    "colab": {
     "base_uri": "https://localhost:8080/",
     "height": 775
    },
    "id": "751lo4gv6K42",
    "outputId": "2e14d587-a9be-4471-cd7e-6342e6b436a3"
   },
   "outputs": [
    {
     "data": {
      "text/plain": [
       "<seaborn.axisgrid.PairGrid at 0x193acb99ac0>"
      ]
     },
     "execution_count": 19,
     "metadata": {},
     "output_type": "execute_result"
    },
    {
     "data": {
      "image/png": "[encoded data removed]",
      "text/plain": [
       "<Figure size 750x750 with 12 Axes>"
      ]
     },
     "metadata": {},
     "output_type": "display_data"
    }
   ],
   "source": [
    "sns.pairplot(numerik)"
   ]
  },
  {
   "cell_type": "markdown",
   "metadata": {
    "id": "Y99n5l9LgkEz"
   },
   "source": [
    "## i. DEKSIPRI VARIABEL (KATEGORIK)"
   ]
  },
  {
   "cell_type": "code",
   "execution_count": 20,
   "metadata": {
    "colab": {
     "base_uri": "https://localhost:8080/",
     "height": 173
    },
    "id": "9lhKPBv46O6g",
    "outputId": "ce115bf9-0712-4a8a-e407-c31f1bc9f92b"
   },
   "outputs": [
    {
     "data": {
      "text/html": [
       "<div>\n",
       "<style scoped>\n",
       "    .dataframe tbody tr th:only-of-type {\n",
       "        vertical-align: middle;\n",
       "    }\n",
       "\n",
       "    .dataframe tbody tr th {\n",
       "        vertical-align: top;\n",
       "    }\n",
       "\n",
       "    .dataframe thead th {\n",
       "        text-align: right;\n",
       "    }\n",
       "</style>\n",
       "<table border=\"1\" class=\"dataframe\">\n",
       "  <thead>\n",
       "    <tr style=\"text-align: right;\">\n",
       "      <th></th>\n",
       "      <th>Asal_Daerah</th>\n",
       "      <th>Pendidikan</th>\n",
       "      <th>Informasi_Purwadhika</th>\n",
       "      <th>kelas</th>\n",
       "      <th>gender</th>\n",
       "      <th>Kelompok_Umur</th>\n",
       "    </tr>\n",
       "  </thead>\n",
       "  <tbody>\n",
       "    <tr>\n",
       "      <th>count</th>\n",
       "      <td>50</td>\n",
       "      <td>50</td>\n",
       "      <td>50</td>\n",
       "      <td>50</td>\n",
       "      <td>50</td>\n",
       "      <td>50</td>\n",
       "    </tr>\n",
       "    <tr>\n",
       "      <th>unique</th>\n",
       "      <td>7</td>\n",
       "      <td>2</td>\n",
       "      <td>5</td>\n",
       "      <td>2</td>\n",
       "      <td>2</td>\n",
       "      <td>4</td>\n",
       "    </tr>\n",
       "    <tr>\n",
       "      <th>top</th>\n",
       "      <td>Jawa Tengah</td>\n",
       "      <td>S1</td>\n",
       "      <td>Instagram</td>\n",
       "      <td>DM</td>\n",
       "      <td>Pria</td>\n",
       "      <td>25 - 29</td>\n",
       "    </tr>\n",
       "    <tr>\n",
       "      <th>freq</th>\n",
       "      <td>16</td>\n",
       "      <td>46</td>\n",
       "      <td>19</td>\n",
       "      <td>30</td>\n",
       "      <td>45</td>\n",
       "      <td>18</td>\n",
       "    </tr>\n",
       "  </tbody>\n",
       "</table>\n",
       "</div>"
      ],
      "text/plain": [
       "        Asal_Daerah Pendidikan Informasi_Purwadhika kelas gender Kelompok_Umur\n",
       "count            50         50                   50    50     50            50\n",
       "unique            7          2                    5     2      2             4\n",
       "top     Jawa Tengah         S1            Instagram    DM   Pria       25 - 29\n",
       "freq             16         46                   19    30     45            18"
      ]
     },
     "execution_count": 20,
     "metadata": {},
     "output_type": "execute_result"
    }
   ],
   "source": [
    "# df.describe(include = 'object') # sama saja\n",
    "df.describe(exclude = 'number')"
   ]
  },
  {
   "cell_type": "markdown",
   "metadata": {
    "id": "ozmF12oJjH1U"
   },
   "source": [
    "# 2 KESIMPULAN DATA UNDERSTANDING"
   ]
  },
  {
   "cell_type": "markdown",
   "metadata": {
    "id": "9dHXs87UjK03"
   },
   "source": [
    "1. Data berdistribusi Normal\n",
    "2. - **2 Kolom** dengan Type Data **Interger**\n",
    "    - Umur, Pengeluaran Bulanan\n",
    "   - **8 Kolom** dengan Type Data **String**\n",
    "    - Asal Daerah, Pendidikan, Informasi Purwadhika, Tingkat Kemampuan, kelas, gender, Kelompok_Umur, Generasi\n",
    "3. Tidak ada Missing value\n"
   ]
  },
  {
   "cell_type": "markdown",
   "metadata": {
    "id": "fpcwNl8GbmJ9"
   },
   "source": [
    "# 3 EDA & UJI STATISTIKA"
   ]
  },
  {
   "cell_type": "markdown",
   "metadata": {
    "id": "_60qUyuBbqwG"
   },
   "source": [
    "## A. KATEGORIK DENGAN NUMERIK"
   ]
  },
  {
   "cell_type": "markdown",
   "metadata": {
    "id": "E7d49t9SuOy3"
   },
   "source": [
    "Pada bagian A.KATEGORIK DENGAN NUMERIK dilakukan pengujian statistika dan EDA"
   ]
  },
  {
   "cell_type": "markdown",
   "metadata": {
    "id": "jSDXnr3w5-Hx"
   },
   "source": [
    "### 1.KELOMPOK UMUR DENGAN PENGELUARAN BULANAN"
   ]
  },
  {
   "cell_type": "code",
   "execution_count": 21,
   "metadata": {
    "colab": {
     "base_uri": "https://localhost:8080/",
     "height": 1000
    },
    "id": "2Y6RUElUPzIj",
    "outputId": "a00e2ccf-8bfa-46f1-be55-f31dee107245"
   },
   "outputs": [
    {
     "data": {
      "text/html": [
       "<div>\n",
       "<style scoped>\n",
       "    .dataframe tbody tr th:only-of-type {\n",
       "        vertical-align: middle;\n",
       "    }\n",
       "\n",
       "    .dataframe tbody tr th {\n",
       "        vertical-align: top;\n",
       "    }\n",
       "\n",
       "    .dataframe thead th {\n",
       "        text-align: right;\n",
       "    }\n",
       "</style>\n",
       "<table border=\"1\" class=\"dataframe\">\n",
       "  <thead>\n",
       "    <tr style=\"text-align: right;\">\n",
       "      <th></th>\n",
       "      <th>Kelompok_Umur</th>\n",
       "      <th>Pengeluaran_Bulanan</th>\n",
       "    </tr>\n",
       "  </thead>\n",
       "  <tbody>\n",
       "    <tr>\n",
       "      <th>0</th>\n",
       "      <td>25 - 29</td>\n",
       "      <td>1200000</td>\n",
       "    </tr>\n",
       "    <tr>\n",
       "      <th>1</th>\n",
       "      <td>20 - 24</td>\n",
       "      <td>2000000</td>\n",
       "    </tr>\n",
       "    <tr>\n",
       "      <th>2</th>\n",
       "      <td>30 - 34</td>\n",
       "      <td>1600000</td>\n",
       "    </tr>\n",
       "    <tr>\n",
       "      <th>3</th>\n",
       "      <td>25 - 29</td>\n",
       "      <td>1100000</td>\n",
       "    </tr>\n",
       "    <tr>\n",
       "      <th>4</th>\n",
       "      <td>20 - 24</td>\n",
       "      <td>1200000</td>\n",
       "    </tr>\n",
       "    <tr>\n",
       "      <th>5</th>\n",
       "      <td>20 - 24</td>\n",
       "      <td>1500000</td>\n",
       "    </tr>\n",
       "    <tr>\n",
       "      <th>6</th>\n",
       "      <td>25 - 29</td>\n",
       "      <td>1400000</td>\n",
       "    </tr>\n",
       "    <tr>\n",
       "      <th>7</th>\n",
       "      <td>20 - 24</td>\n",
       "      <td>1600000</td>\n",
       "    </tr>\n",
       "    <tr>\n",
       "      <th>8</th>\n",
       "      <td>25 - 29</td>\n",
       "      <td>1600000</td>\n",
       "    </tr>\n",
       "    <tr>\n",
       "      <th>9</th>\n",
       "      <td>25 - 29</td>\n",
       "      <td>1600000</td>\n",
       "    </tr>\n",
       "    <tr>\n",
       "      <th>10</th>\n",
       "      <td>30 - 34</td>\n",
       "      <td>1500000</td>\n",
       "    </tr>\n",
       "    <tr>\n",
       "      <th>11</th>\n",
       "      <td>20 - 24</td>\n",
       "      <td>1500000</td>\n",
       "    </tr>\n",
       "    <tr>\n",
       "      <th>12</th>\n",
       "      <td>30 - 34</td>\n",
       "      <td>1600000</td>\n",
       "    </tr>\n",
       "    <tr>\n",
       "      <th>13</th>\n",
       "      <td>20 - 24</td>\n",
       "      <td>1400000</td>\n",
       "    </tr>\n",
       "    <tr>\n",
       "      <th>14</th>\n",
       "      <td>25 - 29</td>\n",
       "      <td>1500000</td>\n",
       "    </tr>\n",
       "    <tr>\n",
       "      <th>15</th>\n",
       "      <td>20 - 24</td>\n",
       "      <td>1400000</td>\n",
       "    </tr>\n",
       "    <tr>\n",
       "      <th>16</th>\n",
       "      <td>30 - 34</td>\n",
       "      <td>1400000</td>\n",
       "    </tr>\n",
       "    <tr>\n",
       "      <th>17</th>\n",
       "      <td>25 - 29</td>\n",
       "      <td>1500000</td>\n",
       "    </tr>\n",
       "    <tr>\n",
       "      <th>18</th>\n",
       "      <td>25 - 29</td>\n",
       "      <td>1400000</td>\n",
       "    </tr>\n",
       "    <tr>\n",
       "      <th>19</th>\n",
       "      <td>30 - 34</td>\n",
       "      <td>800000</td>\n",
       "    </tr>\n",
       "    <tr>\n",
       "      <th>20</th>\n",
       "      <td>25 - 29</td>\n",
       "      <td>2000000</td>\n",
       "    </tr>\n",
       "    <tr>\n",
       "      <th>21</th>\n",
       "      <td>20 - 24</td>\n",
       "      <td>1100000</td>\n",
       "    </tr>\n",
       "    <tr>\n",
       "      <th>22</th>\n",
       "      <td>20 - 24</td>\n",
       "      <td>1600000</td>\n",
       "    </tr>\n",
       "    <tr>\n",
       "      <th>23</th>\n",
       "      <td>30 - 34</td>\n",
       "      <td>1300000</td>\n",
       "    </tr>\n",
       "    <tr>\n",
       "      <th>24</th>\n",
       "      <td>25 - 29</td>\n",
       "      <td>2000000</td>\n",
       "    </tr>\n",
       "    <tr>\n",
       "      <th>25</th>\n",
       "      <td>25 - 29</td>\n",
       "      <td>1300000</td>\n",
       "    </tr>\n",
       "    <tr>\n",
       "      <th>26</th>\n",
       "      <td>20 - 24</td>\n",
       "      <td>1500000</td>\n",
       "    </tr>\n",
       "    <tr>\n",
       "      <th>27</th>\n",
       "      <td>25 - 29</td>\n",
       "      <td>1700000</td>\n",
       "    </tr>\n",
       "    <tr>\n",
       "      <th>28</th>\n",
       "      <td>30 - 34</td>\n",
       "      <td>1000000</td>\n",
       "    </tr>\n",
       "    <tr>\n",
       "      <th>29</th>\n",
       "      <td>35 - 39</td>\n",
       "      <td>1300000</td>\n",
       "    </tr>\n",
       "    <tr>\n",
       "      <th>30</th>\n",
       "      <td>20 - 24</td>\n",
       "      <td>900000</td>\n",
       "    </tr>\n",
       "    <tr>\n",
       "      <th>31</th>\n",
       "      <td>20 - 24</td>\n",
       "      <td>1100000</td>\n",
       "    </tr>\n",
       "    <tr>\n",
       "      <th>32</th>\n",
       "      <td>25 - 29</td>\n",
       "      <td>1300000</td>\n",
       "    </tr>\n",
       "    <tr>\n",
       "      <th>33</th>\n",
       "      <td>30 - 34</td>\n",
       "      <td>1300000</td>\n",
       "    </tr>\n",
       "    <tr>\n",
       "      <th>34</th>\n",
       "      <td>20 - 24</td>\n",
       "      <td>1800000</td>\n",
       "    </tr>\n",
       "    <tr>\n",
       "      <th>35</th>\n",
       "      <td>25 - 29</td>\n",
       "      <td>1200000</td>\n",
       "    </tr>\n",
       "    <tr>\n",
       "      <th>36</th>\n",
       "      <td>20 - 24</td>\n",
       "      <td>1700000</td>\n",
       "    </tr>\n",
       "    <tr>\n",
       "      <th>37</th>\n",
       "      <td>25 - 29</td>\n",
       "      <td>1100000</td>\n",
       "    </tr>\n",
       "    <tr>\n",
       "      <th>38</th>\n",
       "      <td>30 - 34</td>\n",
       "      <td>900000</td>\n",
       "    </tr>\n",
       "    <tr>\n",
       "      <th>39</th>\n",
       "      <td>25 - 29</td>\n",
       "      <td>1400000</td>\n",
       "    </tr>\n",
       "    <tr>\n",
       "      <th>40</th>\n",
       "      <td>30 - 34</td>\n",
       "      <td>1800000</td>\n",
       "    </tr>\n",
       "    <tr>\n",
       "      <th>41</th>\n",
       "      <td>30 - 34</td>\n",
       "      <td>1400000</td>\n",
       "    </tr>\n",
       "    <tr>\n",
       "      <th>42</th>\n",
       "      <td>25 - 29</td>\n",
       "      <td>1500000</td>\n",
       "    </tr>\n",
       "    <tr>\n",
       "      <th>43</th>\n",
       "      <td>20 - 24</td>\n",
       "      <td>1500000</td>\n",
       "    </tr>\n",
       "    <tr>\n",
       "      <th>44</th>\n",
       "      <td>25 - 29</td>\n",
       "      <td>1400000</td>\n",
       "    </tr>\n",
       "    <tr>\n",
       "      <th>45</th>\n",
       "      <td>30 - 34</td>\n",
       "      <td>1700000</td>\n",
       "    </tr>\n",
       "    <tr>\n",
       "      <th>46</th>\n",
       "      <td>20 - 24</td>\n",
       "      <td>1600000</td>\n",
       "    </tr>\n",
       "    <tr>\n",
       "      <th>47</th>\n",
       "      <td>35 - 39</td>\n",
       "      <td>1000000</td>\n",
       "    </tr>\n",
       "    <tr>\n",
       "      <th>48</th>\n",
       "      <td>30 - 34</td>\n",
       "      <td>1600000</td>\n",
       "    </tr>\n",
       "    <tr>\n",
       "      <th>49</th>\n",
       "      <td>20 - 24</td>\n",
       "      <td>900000</td>\n",
       "    </tr>\n",
       "  </tbody>\n",
       "</table>\n",
       "</div>"
      ],
      "text/plain": [
       "   Kelompok_Umur  Pengeluaran_Bulanan\n",
       "0        25 - 29              1200000\n",
       "1        20 - 24              2000000\n",
       "2        30 - 34              1600000\n",
       "3        25 - 29              1100000\n",
       "4        20 - 24              1200000\n",
       "5        20 - 24              1500000\n",
       "6        25 - 29              1400000\n",
       "7        20 - 24              1600000\n",
       "8        25 - 29              1600000\n",
       "9        25 - 29              1600000\n",
       "10       30 - 34              1500000\n",
       "11       20 - 24              1500000\n",
       "12       30 - 34              1600000\n",
       "13       20 - 24              1400000\n",
       "14       25 - 29              1500000\n",
       "15       20 - 24              1400000\n",
       "16       30 - 34              1400000\n",
       "17       25 - 29              1500000\n",
       "18       25 - 29              1400000\n",
       "19       30 - 34               800000\n",
       "20       25 - 29              2000000\n",
       "21       20 - 24              1100000\n",
       "22       20 - 24              1600000\n",
       "23       30 - 34              1300000\n",
       "24       25 - 29              2000000\n",
       "25       25 - 29              1300000\n",
       "26       20 - 24              1500000\n",
       "27       25 - 29              1700000\n",
       "28       30 - 34              1000000\n",
       "29       35 - 39              1300000\n",
       "30       20 - 24               900000\n",
       "31       20 - 24              1100000\n",
       "32       25 - 29              1300000\n",
       "33       30 - 34              1300000\n",
       "34       20 - 24              1800000\n",
       "35       25 - 29              1200000\n",
       "36       20 - 24              1700000\n",
       "37       25 - 29              1100000\n",
       "38       30 - 34               900000\n",
       "39       25 - 29              1400000\n",
       "40       30 - 34              1800000\n",
       "41       30 - 34              1400000\n",
       "42       25 - 29              1500000\n",
       "43       20 - 24              1500000\n",
       "44       25 - 29              1400000\n",
       "45       30 - 34              1700000\n",
       "46       20 - 24              1600000\n",
       "47       35 - 39              1000000\n",
       "48       30 - 34              1600000\n",
       "49       20 - 24               900000"
      ]
     },
     "execution_count": 21,
     "metadata": {},
     "output_type": "execute_result"
    }
   ],
   "source": [
    "# MENAMPILKAN KELOMPOK UMUR DAN PENGELUARAN\n",
    "\n",
    "umur_pengeluaran = df[['Kelompok_Umur', 'Pengeluaran_Bulanan']]\n",
    "umur_pengeluaran"
   ]
  },
  {
   "cell_type": "code",
   "execution_count": 22,
   "metadata": {
    "colab": {
     "base_uri": "https://localhost:8080/",
     "height": 204
    },
    "id": "OmZfd-E7DTix",
    "outputId": "f756406c-15a1-4c00-e080-defe10abfe26"
   },
   "outputs": [
    {
     "data": {
      "text/html": [
       "<div>\n",
       "<style scoped>\n",
       "    .dataframe tbody tr th:only-of-type {\n",
       "        vertical-align: middle;\n",
       "    }\n",
       "\n",
       "    .dataframe tbody tr th {\n",
       "        vertical-align: top;\n",
       "    }\n",
       "\n",
       "    .dataframe thead th {\n",
       "        text-align: right;\n",
       "    }\n",
       "</style>\n",
       "<table border=\"1\" class=\"dataframe\">\n",
       "  <thead>\n",
       "    <tr style=\"text-align: right;\">\n",
       "      <th></th>\n",
       "      <th>Pengeluaran_Bulanan</th>\n",
       "    </tr>\n",
       "    <tr>\n",
       "      <th>Kelompok_Umur</th>\n",
       "      <th></th>\n",
       "    </tr>\n",
       "  </thead>\n",
       "  <tbody>\n",
       "    <tr>\n",
       "      <th>20 - 24</th>\n",
       "      <td>1.429412e+06</td>\n",
       "    </tr>\n",
       "    <tr>\n",
       "      <th>25 - 29</th>\n",
       "      <td>1.455556e+06</td>\n",
       "    </tr>\n",
       "    <tr>\n",
       "      <th>30 - 34</th>\n",
       "      <td>1.376923e+06</td>\n",
       "    </tr>\n",
       "    <tr>\n",
       "      <th>35 - 39</th>\n",
       "      <td>1.150000e+06</td>\n",
       "    </tr>\n",
       "  </tbody>\n",
       "</table>\n",
       "</div>"
      ],
      "text/plain": [
       "               Pengeluaran_Bulanan\n",
       "Kelompok_Umur                     \n",
       "20 - 24               1.429412e+06\n",
       "25 - 29               1.455556e+06\n",
       "30 - 34               1.376923e+06\n",
       "35 - 39               1.150000e+06"
      ]
     },
     "execution_count": 22,
     "metadata": {},
     "output_type": "execute_result"
    }
   ],
   "source": [
    "# TABEL MEAN KELOMPOK UMUR DENGAN PENGELUARAN BULANAN\n",
    "\n",
    "umur_pengeluaran = df[['Kelompok_Umur', 'Pengeluaran_Bulanan']]\n",
    "umur_pengeluaran.groupby('Kelompok_Umur').mean()"
   ]
  },
  {
   "cell_type": "code",
   "execution_count": 23,
   "metadata": {
    "colab": {
     "base_uri": "https://localhost:8080/",
     "height": 564
    },
    "id": "v8eHpF81uF5X",
    "outputId": "bcfb861a-5e2c-41dc-caa5-8a9262b59df4"
   },
   "outputs": [
    {
     "data": {
      "image/png": "[encoded data removed]",
      "text/plain": [
       "<Figure size 900x600 with 1 Axes>"
      ]
     },
     "metadata": {},
     "output_type": "display_data"
    }
   ],
   "source": [
    "# Barchart Mean Kelompok Umur\n",
    "\n",
    "\n",
    "\n",
    "plt.figure(figsize = (9,6))\n",
    "sns.barplot(x = umur_pengeluaran.groupby('Kelompok_Umur').mean().index, y = umur_pengeluaran.groupby('Kelompok_Umur').mean()['Pengeluaran_Bulanan'])\n",
    "plt.title('Mean Pengeluaran Bulanan Berdasarkan Kelompok Umur')\n",
    "plt.xlabel('Kelompok Umur')\n",
    "plt.ylabel('Mean Pengeluaran Bulanan')\n",
    "plt.show()"
   ]
  },
  {
   "cell_type": "code",
   "execution_count": 24,
   "metadata": {
    "colab": {
     "base_uri": "https://localhost:8080/"
    },
    "id": "r3ox4JkJYwEN",
    "outputId": "20920968-1807-4163-e476-f2cd0e7120ff"
   },
   "outputs": [
    {
     "name": "stdout",
     "output_type": "stream",
     "text": [
      "F-statistik: 0.7706473589215684\n",
      "p-value: 0.5163789237804561\n",
      "H0 gagal ditolak. Tidak ada perbedaan signifikan dalam pengeluaran bulanan di setiap kelompok umur.\n"
     ]
    }
   ],
   "source": [
    "from scipy.stats import f_oneway\n",
    "\n",
    "h0 = \"Tidak ada perbedaan signifikan dalam pengeluaran bulanan di setiap kelompok umur.\"\n",
    "h1 = \"Terdapat perbedaan signifikan dalam pengeluaran bulanan di setiap kelompok umur.\"\n",
    "\n",
    "# Memisahkan data pengeluaran berdasarkan kelompok umur\n",
    "kelompok_20_24 = df[df['Kelompok_Umur'] == '20 - 24']['Pengeluaran_Bulanan']\n",
    "kelompok_25_29 = df[df['Kelompok_Umur'] == '25 - 29']['Pengeluaran_Bulanan']\n",
    "kelompok_30_34 = df[df['Kelompok_Umur'] == '30 - 34']['Pengeluaran_Bulanan']\n",
    "kelompok_35_39 = df[df['Kelompok_Umur'] == '35 - 39']['Pengeluaran_Bulanan']\n",
    "\n",
    "# Melakukan uji ANOVA satu arah\n",
    "f_stat, p_value = f_oneway(kelompok_20_24, kelompok_25_29, kelompok_30_34, kelompok_35_39)\n",
    "\n",
    "# Menampilkan hasil\n",
    "print(\"F-statistik:\", f_stat)\n",
    "print(\"p-value:\", p_value)\n",
    "\n",
    "# Interpretasi hasil\n",
    "if p_value < 0.05:\n",
    "    print(f\"H0 ditolak. {h1}\")\n",
    "else:\n",
    "    print(f\"H0 gagal ditolak. {h0}\")\n"
   ]
  },
  {
   "cell_type": "markdown",
   "metadata": {
    "id": "KXSvzp7BezNp"
   },
   "source": [
    "## B. KATEGORIK DENGAN KATEGORIK"
   ]
  },
  {
   "cell_type": "markdown",
   "metadata": {
    "id": "xBC86UtRFFF7"
   },
   "source": [
    "### FUNGSI STACKED BAR CHART"
   ]
  },
  {
   "cell_type": "code",
   "execution_count": 25,
   "metadata": {
    "id": "KZyI6Mt5FEKX"
   },
   "outputs": [],
   "source": [
    "import seaborn as sns\n",
    "import matplotlib.pyplot as plt\n",
    "\n",
    "# MEMBUAT FUNGSI STACKED BAR\n",
    "def stacked_bar(data, string):\n",
    "    # MENGHITUNG PROPORSI DATA\n",
    "    proporsi = data.div(data.sum(axis=1), axis=0)\n",
    "\n",
    "    # MENGATUR PALET WARNA\n",
    "    sns.set_palette(\"muted\")\n",
    "\n",
    "    # MEMBUAT STACKED BAR CHART\n",
    "    ax = proporsi.plot(kind='bar', stacked=True, figsize=(10, 6))\n",
    "\n",
    "    plt.ylabel('Proporsi')\n",
    "    plt.xlabel(\"Kelompok Umur\")\n",
    "    plt.title(f'Proporsi {string} Siswa Purwadhika Berdasarkan Kelompok Umur')\n",
    "    plt.legend(title=f\"{string}\", bbox_to_anchor=(1.15, 0.5), loc='center')\n",
    "    plt.xticks(rotation=45)\n",
    "    plt.yticks([0.00, 0.25, 0.50, 0.75, 1.00])\n",
    "    plt.grid(False)\n",
    "\n",
    "    # MENAMPILKAN NILAI PROPORSI DI SEGMEN BAR\n",
    "    for p in ax.patches:  # Mengiterasi setiap patch (segmen bar)\n",
    "        height = p.get_height()\n",
    "        width = p.get_width()\n",
    "        x = p.get_x() + width / 2\n",
    "        y = p.get_y() + height / 2\n",
    "\n",
    "        # Menghindari menambahkan anotasi untuk bar yang kosong\n",
    "        if height > 0:\n",
    "            ax.annotate(f'{height:.2f}', (x, y), ha='center', va='center', fontsize=9, color='black')\n",
    "\n",
    "    plt.tight_layout()\n",
    "    plt.show()\n"
   ]
  },
  {
   "cell_type": "markdown",
   "metadata": {
    "id": "RTyTRIJpK7ZZ"
   },
   "source": [
    "### FUNGSI UJI CHI SQUARE"
   ]
  },
  {
   "cell_type": "code",
   "execution_count": 26,
   "metadata": {
    "id": "i8acCJ_iK_1e"
   },
   "outputs": [],
   "source": [
    "# UJI CHI-SQUARE KELOMPOK UMUR DENGAN ASAL DAERAH\n",
    "def chi_square(data, string):\n",
    "    import scipy.stats as stats\n",
    "\n",
    "    # Melakukan uji Chi-Square\n",
    "    stat, p, dof, expected = stats.chi2_contingency(data)\n",
    "\n",
    "    # Menampilkan hasil\n",
    "    print(f\"Chi-Square: {stat:.4f}\")\n",
    "    print(f\"Degrees of Freedom: {dof}\")\n",
    "    print(f\"Expected Frequencies:\\n{expected}\")\n",
    "    print(f\"P-Value: {p:.4f}\")\n",
    "\n",
    "    # Interpretasi\n",
    "    alpha = 0.05\n",
    "    if p < alpha:\n",
    "        print(f\"H0 ditolak: terdapat hubungan yang signifikan antara kelompok umur dan {string} siswa Purwadhika.\")\n",
    "    else:\n",
    "        print(f\"H0 gagal ditolak: tidak terdapat hubungan yang signifikan antara kelompok umur dan {string} siswa Purwadhika.\")"
   ]
  },
  {
   "cell_type": "markdown",
   "metadata": {
    "id": "wiCooZiM7PnP"
   },
   "source": [
    "### 1.KELOMPOK UMUR DENGAN ASAL DAERAH"
   ]
  },
  {
   "cell_type": "code",
   "execution_count": 27,
   "metadata": {
    "colab": {
     "base_uri": "https://localhost:8080/",
     "height": 204
    },
    "id": "peNCt5un7Ts-",
    "outputId": "e5eb7f45-23a5-41ca-c386-97dc73f95e3a"
   },
   "outputs": [
    {
     "data": {
      "text/html": [
       "<div>\n",
       "<style scoped>\n",
       "    .dataframe tbody tr th:only-of-type {\n",
       "        vertical-align: middle;\n",
       "    }\n",
       "\n",
       "    .dataframe tbody tr th {\n",
       "        vertical-align: top;\n",
       "    }\n",
       "\n",
       "    .dataframe thead th {\n",
       "        text-align: right;\n",
       "    }\n",
       "</style>\n",
       "<table border=\"1\" class=\"dataframe\">\n",
       "  <thead>\n",
       "    <tr style=\"text-align: right;\">\n",
       "      <th>Asal_Daerah</th>\n",
       "      <th>Bali</th>\n",
       "      <th>Jawa Barat</th>\n",
       "      <th>Jawa Tengah</th>\n",
       "      <th>Jawa Timur</th>\n",
       "      <th>Papua</th>\n",
       "      <th>Sumatera Barat</th>\n",
       "      <th>Yogyakarta</th>\n",
       "    </tr>\n",
       "    <tr>\n",
       "      <th>Kelompok_Umur</th>\n",
       "      <th></th>\n",
       "      <th></th>\n",
       "      <th></th>\n",
       "      <th></th>\n",
       "      <th></th>\n",
       "      <th></th>\n",
       "      <th></th>\n",
       "    </tr>\n",
       "  </thead>\n",
       "  <tbody>\n",
       "    <tr>\n",
       "      <th>20 - 24</th>\n",
       "      <td>0</td>\n",
       "      <td>5</td>\n",
       "      <td>7</td>\n",
       "      <td>0</td>\n",
       "      <td>0</td>\n",
       "      <td>0</td>\n",
       "      <td>5</td>\n",
       "    </tr>\n",
       "    <tr>\n",
       "      <th>25 - 29</th>\n",
       "      <td>2</td>\n",
       "      <td>3</td>\n",
       "      <td>6</td>\n",
       "      <td>0</td>\n",
       "      <td>0</td>\n",
       "      <td>2</td>\n",
       "      <td>5</td>\n",
       "    </tr>\n",
       "    <tr>\n",
       "      <th>30 - 34</th>\n",
       "      <td>2</td>\n",
       "      <td>3</td>\n",
       "      <td>3</td>\n",
       "      <td>1</td>\n",
       "      <td>3</td>\n",
       "      <td>1</td>\n",
       "      <td>0</td>\n",
       "    </tr>\n",
       "    <tr>\n",
       "      <th>35 - 39</th>\n",
       "      <td>1</td>\n",
       "      <td>0</td>\n",
       "      <td>0</td>\n",
       "      <td>0</td>\n",
       "      <td>0</td>\n",
       "      <td>0</td>\n",
       "      <td>1</td>\n",
       "    </tr>\n",
       "  </tbody>\n",
       "</table>\n",
       "</div>"
      ],
      "text/plain": [
       "Asal_Daerah    Bali  Jawa Barat  Jawa Tengah  Jawa Timur  Papua  \\\n",
       "Kelompok_Umur                                                     \n",
       "20 - 24           0           5            7           0      0   \n",
       "25 - 29           2           3            6           0      0   \n",
       "30 - 34           2           3            3           1      3   \n",
       "35 - 39           1           0            0           0      0   \n",
       "\n",
       "Asal_Daerah    Sumatera Barat  Yogyakarta  \n",
       "Kelompok_Umur                              \n",
       "20 - 24                     0           5  \n",
       "25 - 29                     2           5  \n",
       "30 - 34                     1           0  \n",
       "35 - 39                     0           1  "
      ]
     },
     "execution_count": 27,
     "metadata": {},
     "output_type": "execute_result"
    }
   ],
   "source": [
    "# TABEL KONTENGENSI KELOMPOK UMUR DENGAN ASAL DAERAH\n",
    "tk_umur_daerah = pd.crosstab(df[\"Kelompok_Umur\"], df[\"Asal_Daerah\"])\n",
    "tk_umur_daerah"
   ]
  },
  {
   "cell_type": "code",
   "execution_count": 28,
   "metadata": {
    "colab": {
     "base_uri": "https://localhost:8080/",
     "height": 607
    },
    "id": "DLDVBITvnHVo",
    "outputId": "44d46ea1-336e-49af-cc09-01c43452983c"
   },
   "outputs": [
    {
     "data": {
      "image/png": "[encoded data removed]",
      "text/plain": [
       "<Figure size 1000x600 with 1 Axes>"
      ]
     },
     "metadata": {},
     "output_type": "display_data"
    }
   ],
   "source": [
    "# MENAMPILKAN STACKED BAR KELOMPOK UMUR DENGAN ASAL DAERAH\n",
    "stacked_bar(tk_umur_daerah, \"Asal Daerah\")"
   ]
  },
  {
   "cell_type": "code",
   "execution_count": 29,
   "metadata": {
    "colab": {
     "base_uri": "https://localhost:8080/"
    },
    "id": "ikiiRsNk8rkD",
    "outputId": "ba5989bf-b333-4e04-eb97-5dcbe10cfc3a"
   },
   "outputs": [
    {
     "name": "stdout",
     "output_type": "stream",
     "text": [
      "Chi-Square: 25.4648\n",
      "Degrees of Freedom: 18\n",
      "Expected Frequencies:\n",
      "[[1.7  3.74 5.44 0.34 1.02 1.02 3.74]\n",
      " [1.8  3.96 5.76 0.36 1.08 1.08 3.96]\n",
      " [1.3  2.86 4.16 0.26 0.78 0.78 2.86]\n",
      " [0.2  0.44 0.64 0.04 0.12 0.12 0.44]]\n",
      "P-Value: 0.1126\n",
      "H0 gagal ditolak: tidak terdapat hubungan yang signifikan antara kelompok umur dan asal daerah siswa Purwadhika.\n"
     ]
    }
   ],
   "source": [
    "# UJI CHI-SQUARE KELOMPOK UMUR DENGAN ASAL DAERAH\n",
    "chi_square(tk_umur_daerah, \"asal daerah\")"
   ]
  },
  {
   "cell_type": "markdown",
   "metadata": {
    "id": "Sg2FhJN19Ehz"
   },
   "source": [
    "### 2.KELOMPOK UMUR DENGAN PENDIDIKAN"
   ]
  },
  {
   "cell_type": "code",
   "execution_count": 30,
   "metadata": {
    "colab": {
     "base_uri": "https://localhost:8080/",
     "height": 204
    },
    "id": "jBPttEX-9Lzh",
    "outputId": "62ff7555-c603-41c5-cb23-8179d04b77af"
   },
   "outputs": [
    {
     "data": {
      "text/html": [
       "<div>\n",
       "<style scoped>\n",
       "    .dataframe tbody tr th:only-of-type {\n",
       "        vertical-align: middle;\n",
       "    }\n",
       "\n",
       "    .dataframe tbody tr th {\n",
       "        vertical-align: top;\n",
       "    }\n",
       "\n",
       "    .dataframe thead th {\n",
       "        text-align: right;\n",
       "    }\n",
       "</style>\n",
       "<table border=\"1\" class=\"dataframe\">\n",
       "  <thead>\n",
       "    <tr style=\"text-align: right;\">\n",
       "      <th>Pendidikan</th>\n",
       "      <th>S1</th>\n",
       "      <th>SMA</th>\n",
       "    </tr>\n",
       "    <tr>\n",
       "      <th>Kelompok_Umur</th>\n",
       "      <th></th>\n",
       "      <th></th>\n",
       "    </tr>\n",
       "  </thead>\n",
       "  <tbody>\n",
       "    <tr>\n",
       "      <th>20 - 24</th>\n",
       "      <td>14</td>\n",
       "      <td>3</td>\n",
       "    </tr>\n",
       "    <tr>\n",
       "      <th>25 - 29</th>\n",
       "      <td>18</td>\n",
       "      <td>0</td>\n",
       "    </tr>\n",
       "    <tr>\n",
       "      <th>30 - 34</th>\n",
       "      <td>12</td>\n",
       "      <td>1</td>\n",
       "    </tr>\n",
       "    <tr>\n",
       "      <th>35 - 39</th>\n",
       "      <td>2</td>\n",
       "      <td>0</td>\n",
       "    </tr>\n",
       "  </tbody>\n",
       "</table>\n",
       "</div>"
      ],
      "text/plain": [
       "Pendidikan     S1  SMA\n",
       "Kelompok_Umur         \n",
       "20 - 24        14    3\n",
       "25 - 29        18    0\n",
       "30 - 34        12    1\n",
       "35 - 39         2    0"
      ]
     },
     "execution_count": 30,
     "metadata": {},
     "output_type": "execute_result"
    }
   ],
   "source": [
    "# Tabel Kontingensi Kelompok Umur dengan Pendidikan\n",
    "tk_kel_umur_pendidikan = pd.crosstab(df[\"Kelompok_Umur\"], df[\"Pendidikan\"])\n",
    "tk_kel_umur_pendidikan"
   ]
  },
  {
   "cell_type": "code",
   "execution_count": 31,
   "metadata": {
    "colab": {
     "base_uri": "https://localhost:8080/",
     "height": 607
    },
    "id": "PsoSWkQfn9E9",
    "outputId": "acc4b846-6a9b-4b01-f1a5-b9bdc6e2ea15"
   },
   "outputs": [
    {
     "data": {
      "image/png": "[encoded data removed]",
      "text/plain": [
       "<Figure size 1000x600 with 1 Axes>"
      ]
     },
     "metadata": {},
     "output_type": "display_data"
    }
   ],
   "source": [
    "stacked_bar(tk_kel_umur_pendidikan, \"Pendidikan\")"
   ]
  },
  {
   "cell_type": "code",
   "execution_count": 32,
   "metadata": {
    "colab": {
     "base_uri": "https://localhost:8080/"
    },
    "id": "toxoitkB-IV_",
    "outputId": "b8586b55-13c2-4644-dfb0-2164034ab497"
   },
   "outputs": [
    {
     "name": "stdout",
     "output_type": "stream",
     "text": [
      "Chi-Square: 3.8904\n",
      "Degrees of Freedom: 3\n",
      "Expected Frequencies:\n",
      "[[15.64  1.36]\n",
      " [16.56  1.44]\n",
      " [11.96  1.04]\n",
      " [ 1.84  0.16]]\n",
      "P-Value: 0.2735\n",
      "H0 gagal ditolak: tidak terdapat hubungan yang signifikan antara kelompok umur dan pendidikan siswa siswa Purwadhika.\n"
     ]
    }
   ],
   "source": [
    "# UJI CHI-SQUARE KELOMPOK UMUR DENGAN PENDIDIKAN SISWA\n",
    "chi_square(tk_kel_umur_pendidikan, \"pendidikan siswa\")"
   ]
  },
  {
   "cell_type": "markdown",
   "metadata": {
    "id": "z_yCl7dk-oLG"
   },
   "source": [
    "### 3.KELOMPOK UMUR DENGAN INFORMASI PURWADHIKA"
   ]
  },
  {
   "cell_type": "code",
   "execution_count": 33,
   "metadata": {
    "colab": {
     "base_uri": "https://localhost:8080/",
     "height": 204
    },
    "id": "tOkOPLoX-yex",
    "outputId": "29ab0843-5be7-4fef-d4e7-d64b6624c593"
   },
   "outputs": [
    {
     "data": {
      "text/html": [
       "<div>\n",
       "<style scoped>\n",
       "    .dataframe tbody tr th:only-of-type {\n",
       "        vertical-align: middle;\n",
       "    }\n",
       "\n",
       "    .dataframe tbody tr th {\n",
       "        vertical-align: top;\n",
       "    }\n",
       "\n",
       "    .dataframe thead th {\n",
       "        text-align: right;\n",
       "    }\n",
       "</style>\n",
       "<table border=\"1\" class=\"dataframe\">\n",
       "  <thead>\n",
       "    <tr style=\"text-align: right;\">\n",
       "      <th>Informasi_Purwadhika</th>\n",
       "      <th>Instagram</th>\n",
       "      <th>Lainnya</th>\n",
       "      <th>LinkedIn</th>\n",
       "      <th>Teman</th>\n",
       "      <th>Twitter</th>\n",
       "    </tr>\n",
       "    <tr>\n",
       "      <th>Kelompok_Umur</th>\n",
       "      <th></th>\n",
       "      <th></th>\n",
       "      <th></th>\n",
       "      <th></th>\n",
       "      <th></th>\n",
       "    </tr>\n",
       "  </thead>\n",
       "  <tbody>\n",
       "    <tr>\n",
       "      <th>20 - 24</th>\n",
       "      <td>5</td>\n",
       "      <td>2</td>\n",
       "      <td>3</td>\n",
       "      <td>6</td>\n",
       "      <td>1</td>\n",
       "    </tr>\n",
       "    <tr>\n",
       "      <th>25 - 29</th>\n",
       "      <td>9</td>\n",
       "      <td>3</td>\n",
       "      <td>2</td>\n",
       "      <td>4</td>\n",
       "      <td>0</td>\n",
       "    </tr>\n",
       "    <tr>\n",
       "      <th>30 - 34</th>\n",
       "      <td>5</td>\n",
       "      <td>5</td>\n",
       "      <td>1</td>\n",
       "      <td>1</td>\n",
       "      <td>1</td>\n",
       "    </tr>\n",
       "    <tr>\n",
       "      <th>35 - 39</th>\n",
       "      <td>0</td>\n",
       "      <td>0</td>\n",
       "      <td>0</td>\n",
       "      <td>2</td>\n",
       "      <td>0</td>\n",
       "    </tr>\n",
       "  </tbody>\n",
       "</table>\n",
       "</div>"
      ],
      "text/plain": [
       "Informasi_Purwadhika  Instagram  Lainnya  LinkedIn  Teman  Twitter\n",
       "Kelompok_Umur                                                     \n",
       "20 - 24                       5        2         3      6        1\n",
       "25 - 29                       9        3         2      4        0\n",
       "30 - 34                       5        5         1      1        1\n",
       "35 - 39                       0        0         0      2        0"
      ]
     },
     "execution_count": 33,
     "metadata": {},
     "output_type": "execute_result"
    }
   ],
   "source": [
    "# TABEL KONTINGENSI KELOMPOK UMUR DENGAN INFORMASI PURWADHIKA\n",
    "tk_umur_informasi = pd.crosstab(df[\"Kelompok_Umur\"], df[\"Informasi_Purwadhika\"])\n",
    "tk_umur_informasi"
   ]
  },
  {
   "cell_type": "code",
   "execution_count": 34,
   "metadata": {
    "colab": {
     "base_uri": "https://localhost:8080/",
     "height": 607
    },
    "id": "bu5xF1ZBoIbu",
    "outputId": "85a6c58d-a23e-4c0d-d401-6cf0f93813e6"
   },
   "outputs": [
    {
     "data": {
      "image/png": "[encoded data removed]",
      "text/plain": [
       "<Figure size 1000x600 with 1 Axes>"
      ]
     },
     "metadata": {},
     "output_type": "display_data"
    }
   ],
   "source": [
    "# STACKED BAR CHART PROPORSI INFORMASI PURWADHIKA\n",
    "stacked_bar(tk_umur_informasi, \"Informasi\")"
   ]
  },
  {
   "cell_type": "code",
   "execution_count": 35,
   "metadata": {
    "colab": {
     "base_uri": "https://localhost:8080/"
    },
    "id": "AEW7Lr97_m_7",
    "outputId": "0ab5908d-f61b-434d-9569-124cc9389019"
   },
   "outputs": [
    {
     "name": "stdout",
     "output_type": "stream",
     "text": [
      "Chi-Square: 13.9147\n",
      "Degrees of Freedom: 12\n",
      "Expected Frequencies:\n",
      "[[6.46 3.4  2.04 4.42 0.68]\n",
      " [6.84 3.6  2.16 4.68 0.72]\n",
      " [4.94 2.6  1.56 3.38 0.52]\n",
      " [0.76 0.4  0.24 0.52 0.08]]\n",
      "P-Value: 0.3062\n",
      "H0 gagal ditolak: tidak terdapat hubungan yang signifikan antara kelompok umur dan sumber informasi siswa Purwadhika.\n"
     ]
    }
   ],
   "source": [
    "# UJI CHI SQUARE INFORMASI PURWADHIKA DENGAN KELOMPOK UMUR\n",
    "chi_square(tk_umur_informasi, \"sumber informasi\")"
   ]
  },
  {
   "cell_type": "markdown",
   "metadata": {
    "id": "mSyqO7qvAKOx"
   },
   "source": [
    "### 4.KELOMPOK UMUR DENGAN TINGKAT KEMAMPUAN"
   ]
  },
  {
   "cell_type": "code",
   "execution_count": 36,
   "metadata": {
    "colab": {
     "base_uri": "https://localhost:8080/",
     "height": 204
    },
    "id": "4teooOF5AUMg",
    "outputId": "f544f08a-84d9-4b8c-969d-f50cea5fa7d1"
   },
   "outputs": [
    {
     "data": {
      "text/html": [
       "<div>\n",
       "<style scoped>\n",
       "    .dataframe tbody tr th:only-of-type {\n",
       "        vertical-align: middle;\n",
       "    }\n",
       "\n",
       "    .dataframe tbody tr th {\n",
       "        vertical-align: top;\n",
       "    }\n",
       "\n",
       "    .dataframe thead th {\n",
       "        text-align: right;\n",
       "    }\n",
       "</style>\n",
       "<table border=\"1\" class=\"dataframe\">\n",
       "  <thead>\n",
       "    <tr style=\"text-align: right;\">\n",
       "      <th>Tingkat_Kemampuan</th>\n",
       "      <th>1</th>\n",
       "      <th>2</th>\n",
       "      <th>3</th>\n",
       "    </tr>\n",
       "    <tr>\n",
       "      <th>Kelompok_Umur</th>\n",
       "      <th></th>\n",
       "      <th></th>\n",
       "      <th></th>\n",
       "    </tr>\n",
       "  </thead>\n",
       "  <tbody>\n",
       "    <tr>\n",
       "      <th>20 - 24</th>\n",
       "      <td>5</td>\n",
       "      <td>3</td>\n",
       "      <td>9</td>\n",
       "    </tr>\n",
       "    <tr>\n",
       "      <th>25 - 29</th>\n",
       "      <td>6</td>\n",
       "      <td>8</td>\n",
       "      <td>4</td>\n",
       "    </tr>\n",
       "    <tr>\n",
       "      <th>30 - 34</th>\n",
       "      <td>5</td>\n",
       "      <td>4</td>\n",
       "      <td>4</td>\n",
       "    </tr>\n",
       "    <tr>\n",
       "      <th>35 - 39</th>\n",
       "      <td>0</td>\n",
       "      <td>2</td>\n",
       "      <td>0</td>\n",
       "    </tr>\n",
       "  </tbody>\n",
       "</table>\n",
       "</div>"
      ],
      "text/plain": [
       "Tingkat_Kemampuan  1  2  3\n",
       "Kelompok_Umur             \n",
       "20 - 24            5  3  9\n",
       "25 - 29            6  8  4\n",
       "30 - 34            5  4  4\n",
       "35 - 39            0  2  0"
      ]
     },
     "execution_count": 36,
     "metadata": {},
     "output_type": "execute_result"
    }
   ],
   "source": [
    "# TABEL KONTINGENSI KELOMPOK UMUR DENGAN TINGKAT KEMAMPUAN\n",
    "tk_umur_kemampuan = pd.crosstab(df[\"Kelompok_Umur\"], df[\"Tingkat_Kemampuan\"])\n",
    "tk_umur_kemampuan"
   ]
  },
  {
   "cell_type": "code",
   "execution_count": 37,
   "metadata": {
    "colab": {
     "base_uri": "https://localhost:8080/",
     "height": 607
    },
    "id": "qKtQRm7woV0E",
    "outputId": "705c5337-a7aa-4eec-beaf-fb1870108453"
   },
   "outputs": [
    {
     "data": {
      "image/png": "[encoded data removed]",
      "text/plain": [
       "<Figure size 1000x600 with 1 Axes>"
      ]
     },
     "metadata": {},
     "output_type": "display_data"
    }
   ],
   "source": [
    "stacked_bar(tk_umur_kemampuan, \"Tingkat Kemampuan\")"
   ]
  },
  {
   "cell_type": "code",
   "execution_count": 38,
   "metadata": {
    "colab": {
     "base_uri": "https://localhost:8080/"
    },
    "id": "kvBJBmK3ClqO",
    "outputId": "003833d9-1105-4b89-96fc-aa695bb9370d"
   },
   "outputs": [
    {
     "name": "stdout",
     "output_type": "stream",
     "text": [
      "Chi-Square: 8.6202\n",
      "Degrees of Freedom: 6\n",
      "Expected Frequencies:\n",
      "[[5.44 5.78 5.78]\n",
      " [5.76 6.12 6.12]\n",
      " [4.16 4.42 4.42]\n",
      " [0.64 0.68 0.68]]\n",
      "P-Value: 0.1961\n",
      "H0 gagal ditolak: tidak terdapat hubungan yang signifikan antara kelompok umur dan tingkat kemampuan siswa Purwadhika.\n"
     ]
    }
   ],
   "source": [
    "# UJI CHI SQUARE KELOMPOK UMUR DENGAN TINGKAT KEMAMPUAN\n",
    "chi_square(tk_umur_kemampuan, \"tingkat kemampuan\")"
   ]
  },
  {
   "cell_type": "markdown",
   "metadata": {
    "id": "olEJrWzyDF84"
   },
   "source": [
    "### 5.KELOMPOK UMUR DENGAN GENDER"
   ]
  },
  {
   "cell_type": "code",
   "execution_count": 39,
   "metadata": {
    "colab": {
     "base_uri": "https://localhost:8080/",
     "height": 204
    },
    "id": "_MyjMVdnDVDW",
    "outputId": "30d88314-d75b-418a-ad73-f2c179f8c630"
   },
   "outputs": [
    {
     "data": {
      "text/html": [
       "<div>\n",
       "<style scoped>\n",
       "    .dataframe tbody tr th:only-of-type {\n",
       "        vertical-align: middle;\n",
       "    }\n",
       "\n",
       "    .dataframe tbody tr th {\n",
       "        vertical-align: top;\n",
       "    }\n",
       "\n",
       "    .dataframe thead th {\n",
       "        text-align: right;\n",
       "    }\n",
       "</style>\n",
       "<table border=\"1\" class=\"dataframe\">\n",
       "  <thead>\n",
       "    <tr style=\"text-align: right;\">\n",
       "      <th>gender</th>\n",
       "      <th>Pria</th>\n",
       "      <th>Wanita</th>\n",
       "    </tr>\n",
       "    <tr>\n",
       "      <th>Kelompok_Umur</th>\n",
       "      <th></th>\n",
       "      <th></th>\n",
       "    </tr>\n",
       "  </thead>\n",
       "  <tbody>\n",
       "    <tr>\n",
       "      <th>20 - 24</th>\n",
       "      <td>17</td>\n",
       "      <td>0</td>\n",
       "    </tr>\n",
       "    <tr>\n",
       "      <th>25 - 29</th>\n",
       "      <td>15</td>\n",
       "      <td>3</td>\n",
       "    </tr>\n",
       "    <tr>\n",
       "      <th>30 - 34</th>\n",
       "      <td>11</td>\n",
       "      <td>2</td>\n",
       "    </tr>\n",
       "    <tr>\n",
       "      <th>35 - 39</th>\n",
       "      <td>2</td>\n",
       "      <td>0</td>\n",
       "    </tr>\n",
       "  </tbody>\n",
       "</table>\n",
       "</div>"
      ],
      "text/plain": [
       "gender         Pria  Wanita\n",
       "Kelompok_Umur              \n",
       "20 - 24          17       0\n",
       "25 - 29          15       3\n",
       "30 - 34          11       2\n",
       "35 - 39           2       0"
      ]
     },
     "execution_count": 39,
     "metadata": {},
     "output_type": "execute_result"
    }
   ],
   "source": [
    "tk_umur_gender = pd.crosstab(df[\"Kelompok_Umur\"], df[\"gender\"])\n",
    "tk_umur_gender"
   ]
  },
  {
   "cell_type": "code",
   "execution_count": 40,
   "metadata": {
    "colab": {
     "base_uri": "https://localhost:8080/",
     "height": 607
    },
    "id": "PIibBZ87odIF",
    "outputId": "6ca5efc4-3fe5-446c-f326-6b39abc5515b"
   },
   "outputs": [
    {
     "data": {
      "image/png": "[encoded data removed]",
      "text/plain": [
       "<Figure size 1000x600 with 1 Axes>"
      ]
     },
     "metadata": {},
     "output_type": "display_data"
    }
   ],
   "source": [
    "stacked_bar(tk_umur_gender, \"Gender\")"
   ]
  },
  {
   "cell_type": "code",
   "execution_count": 41,
   "metadata": {
    "colab": {
     "base_uri": "https://localhost:8080/"
    },
    "id": "e3BTnxtzD4Op",
    "outputId": "a8138d46-329f-473e-a366-d52f7f97b502"
   },
   "outputs": [
    {
     "name": "stdout",
     "output_type": "stream",
     "text": [
      "Chi-Square: 3.4188\n",
      "Degrees of Freedom: 3\n",
      "Expected Frequencies:\n",
      "[[15.3  1.7]\n",
      " [16.2  1.8]\n",
      " [11.7  1.3]\n",
      " [ 1.8  0.2]]\n",
      "P-Value: 0.3314\n",
      "H0 gagal ditolak: tidak terdapat hubungan yang signifikan antara kelompok umur dan gender siswa Purwadhika.\n"
     ]
    }
   ],
   "source": [
    "# UJI CHI-SQUARE KELOMPOK UMUR DENGAN GENDER\n",
    "chi_square(tk_umur_gender, \"gender\")"
   ]
  },
  {
   "cell_type": "markdown",
   "metadata": {
    "id": "MK7-Cq6Wza9v"
   },
   "source": [
    "### 6.KELOMPOK UMUR DENGAN KELAS"
   ]
  },
  {
   "cell_type": "code",
   "execution_count": 42,
   "metadata": {
    "colab": {
     "base_uri": "https://localhost:8080/",
     "height": 204
    },
    "id": "WG0gwDZtzeJL",
    "outputId": "98f24827-3afc-4cbd-9f39-c9ef8dac3454"
   },
   "outputs": [
    {
     "data": {
      "text/html": [
       "<div>\n",
       "<style scoped>\n",
       "    .dataframe tbody tr th:only-of-type {\n",
       "        vertical-align: middle;\n",
       "    }\n",
       "\n",
       "    .dataframe tbody tr th {\n",
       "        vertical-align: top;\n",
       "    }\n",
       "\n",
       "    .dataframe thead th {\n",
       "        text-align: right;\n",
       "    }\n",
       "</style>\n",
       "<table border=\"1\" class=\"dataframe\">\n",
       "  <thead>\n",
       "    <tr style=\"text-align: right;\">\n",
       "      <th>kelas</th>\n",
       "      <th>DM</th>\n",
       "      <th>WD</th>\n",
       "    </tr>\n",
       "    <tr>\n",
       "      <th>Kelompok_Umur</th>\n",
       "      <th></th>\n",
       "      <th></th>\n",
       "    </tr>\n",
       "  </thead>\n",
       "  <tbody>\n",
       "    <tr>\n",
       "      <th>20 - 24</th>\n",
       "      <td>7</td>\n",
       "      <td>10</td>\n",
       "    </tr>\n",
       "    <tr>\n",
       "      <th>25 - 29</th>\n",
       "      <td>14</td>\n",
       "      <td>4</td>\n",
       "    </tr>\n",
       "    <tr>\n",
       "      <th>30 - 34</th>\n",
       "      <td>9</td>\n",
       "      <td>4</td>\n",
       "    </tr>\n",
       "    <tr>\n",
       "      <th>35 - 39</th>\n",
       "      <td>0</td>\n",
       "      <td>2</td>\n",
       "    </tr>\n",
       "  </tbody>\n",
       "</table>\n",
       "</div>"
      ],
      "text/plain": [
       "kelas          DM  WD\n",
       "Kelompok_Umur        \n",
       "20 - 24         7  10\n",
       "25 - 29        14   4\n",
       "30 - 34         9   4\n",
       "35 - 39         0   2"
      ]
     },
     "execution_count": 42,
     "metadata": {},
     "output_type": "execute_result"
    }
   ],
   "source": [
    "# TABEL KONTINGENSI KELOMPOK UMUR DENGAN KELAS\n",
    "tk_umur_kelas = pd.crosstab(df[\"Kelompok_Umur\"], df[\"kelas\"])\n",
    "tk_umur_kelas"
   ]
  },
  {
   "cell_type": "code",
   "execution_count": 43,
   "metadata": {
    "colab": {
     "base_uri": "https://localhost:8080/",
     "height": 607
    },
    "id": "oGGdTXhdzmOO",
    "outputId": "8a2a8515-cb1c-4390-9d11-f2cc506347e0"
   },
   "outputs": [
    {
     "data": {
      "image/png": "[encoded data removed]",
      "text/plain": [
       "<Figure size 1000x600 with 1 Axes>"
      ]
     },
     "metadata": {},
     "output_type": "display_data"
    }
   ],
   "source": [
    "# PROPORTIONAL STACKED BAR KELOMPOK UMUR DENGAN KELAS\n",
    "stacked_bar(tk_umur_kelas, \"Kelas\")"
   ]
  },
  {
   "cell_type": "code",
   "execution_count": 44,
   "metadata": {
    "colab": {
     "base_uri": "https://localhost:8080/"
    },
    "id": "0h2k4id5z-2n",
    "outputId": "cf71b728-d999-49b2-9af2-3e3d1cfc76a2"
   },
   "outputs": [
    {
     "name": "stdout",
     "output_type": "stream",
     "text": [
      "Chi-Square: 8.3417\n",
      "Degrees of Freedom: 3\n",
      "Expected Frequencies:\n",
      "[[10.2  6.8]\n",
      " [10.8  7.2]\n",
      " [ 7.8  5.2]\n",
      " [ 1.2  0.8]]\n",
      "P-Value: 0.0395\n",
      "H0 ditolak: terdapat hubungan yang signifikan antara kelompok umur dan kelas siswa Purwadhika.\n"
     ]
    }
   ],
   "source": [
    "# UJI CHI-SQUARE KELOMPOK UMUR DENGAN KELAS\n",
    "chi_square(tk_umur_kelas, \"kelas\")"
   ]
  },
  {
   "cell_type": "markdown",
   "metadata": {
    "id": "73exvH0Eg8mX"
   },
   "source": [
    "# 3 KESIMPULAN ANALISIS"
   ]
  },
  {
   "cell_type": "markdown",
   "metadata": {
    "id": "YSXMYGoojvae"
   },
   "source": [
    "**A. Analisis Kategorik dengan Numerik**\n",
    "\n",
    "**Kelompok Umur dengan Pengeluaran Bulanan:**\n",
    "\n",
    "Dari hasil analisis, terlihat bahwa **rata-rata pengeluaran bulanan siswa Purwadhika di setiap kelompok umur ternyata tidak jauh berbeda**. Ini berarti usia siswa tidak terlalu memengaruhi seberapa besar pengeluaran mereka setiap bulan. Baik yang masih muda maupun yang lebih dewasa, rata-rata memiliki pengeluaran bulanan yang mirip. Mungkin karena kebutuhan pendidikan di Purwadhika yang seragam atau faktor-faktor lain yang menyamakan pola pengeluaran mereka.\n",
    "\n",
    "\n",
    "**B. Analisis Kategorik dengan Kategorik**\n",
    "\n",
    "**1. Kelompok Umur dengan Asal Daerah:**\n",
    "\n",
    "Hasil analisis menunjukkan bahwa **asal daerah siswa Purwadhika tersebar merata di semua kelompok umur**. Artinya, tidak ada kelompok usia tertentu yang lebih banyak berasal dari daerah tertentu. Dengan kata lain, faktor usia tidak terlalu berpengaruh pada daerah asal siswa yang mendaftar.\n",
    "\n",
    "**2. Kelompok Umur dengan Pendidikan:**\n",
    "\n",
    "Berdasarkan analisis, **tidak ada perbedaan mencolok dalam tingkat pendidikan siswa menurut kelompok umur**. Jadi, siswa berpendidikan S1 & SMA cenderung tersebar di semua usia. Ini mungkin karena program di Purwadhika bisa menarik siswa dari berbagai latar pendidikan, tanpa memandang usia.\n",
    "\n",
    "**3. Kelompok Umur dengan Informasi Purwadhika:**\n",
    "\n",
    "Sumber informasi yang digunakan siswa untuk mengetahui tentang Purwadhika **tidak menunjukkan perbedaan signifikan antar kelompok umur**. Artinya, siswa dari segala usia mendapatkan informasi dari sumber yang kurang lebih sama. Dengan begitu, baik yang muda maupun yang lebih tua sama-sama punya akses informasi yang seimbang tentang Purwadhika.\n",
    "\n",
    "**4. Kelompok Umur dengan Tingkat Kemampuan:**\n",
    "\n",
    "Tingkat kemampuan siswa di Purwadhika tidak terlalu berbeda antara kelompok umur satu dengan lainnya. Ini berarti setiap kelompok umur punya distribusi kemampuan yang kurang lebih sama. Bisa jadi, karena kurikulum Purwadhika memang sudah didesain agar sesuai untuk siswa dari berbagai latar belakang keterampilan, tanpa memandang usia.\n",
    "\n",
    "**5. Kelompok Umur dengan Gender:**\n",
    "\n",
    "Dari segi gender, proporsinya cukup merata di tiap kelompok umur. Laki-laki menjadi gender dominan di setiap kelompok umur. Sehingga tidak ada perbedaan proporsi yang signifikan.\n",
    "\n",
    "**6. Kelompok Umur dengan Pemilihan Kelas:**\n",
    "Analisis menunjukkan adanya perbedaan signifikan dalam pilihan kelas berdasarkan kelompok umur. Ini menunjukkan bahwa pemilihan kelas atau program yang diambil cenderung dipengaruhi oleh usia. Misalnya, siswa yang lebih muda mungkin lebih memilih kelas yang bersifat fundamental, sementara yang lebih dewasa lebih tertarik pada kelas spesialisasi atau program untuk mengembangkan keterampilan profesional.\n",
    "\n",
    "\n",
    "**Kesimpulan**\n",
    "\n",
    "Analisis ini memberi gambaran tentang pola dan distribusi data antar kelompok yang bisa jadi bahan pertimbangan dalam menyusun strategi program dan promosi di Purwadhika agar lebih sesuai dengan profil siswa."
   ]
  },
  {
   "cell_type": "markdown",
   "metadata": {
    "id": "DMNJIvwk8IRx"
   },
   "source": [
    "#4 SARAN BISNIS KEDEPANNYA"
   ]
  },
  {
   "cell_type": "markdown",
   "metadata": {
    "id": "iMzp4P5Q_5tf"
   },
   "source": [
    "1. Pengeluaran Bulanan Konsisten di Semua Kelompok Usia\n",
    "\n",
    " - Saran: Karena pengeluaran bulanan rata-rata siswa serupa di semua kelompok umur, Purwadhika bisa mempertahankan model biaya saat ini dan fokus pada penawaran program yang relevan untuk semua usia. Promosi beasiswa atau cicilan bisa diperluas untuk menjangkau segmen yang lebih sensitif terhadap biaya, tanpa mengurangi rata-rata pengeluaran keseluruhan.\n",
    "\n",
    "2. Distribusi Usia dan Asal Daerah yang Merata\n",
    "\n",
    " - Saran: Karena siswa datang dari berbagai daerah tanpa pengaruh signifikan dari usia, Purwadhika dapat memperluas jangkauan pemasaran ke lebih banyak wilayah. Strategi berbasis lokasi seperti roadshow, kerjasama dengan komunitas lokal, atau kemitraan dengan sekolah/universitas di berbagai daerah bisa lebih digalakkan.\n",
    "\n",
    "3. Latar Pendidikan yang Beragam\n",
    "\n",
    " - Saran: Program yang dirancang fleksibel, seperti \"kelas bridging\" untuk siswa dengan latar belakang non-teknis, bisa diperkuat. Hal ini dapat mengoptimalkan pengalaman belajar siswa dengan tingkat pendidikan yang beragam.\n",
    "\n",
    "4. Sumber Informasi yang Konsisten\n",
    "\n",
    " - Saran: Mengingat sumber informasi serupa di semua kelompok umur, strategi pemasaran digital dan offline bisa difokuskan pada saluran yang sudah terbukti efektif. Misalnya, media sosial, webinar, dan testimoni alumni bisa digunakan secara lebih intensif untuk menjangkau lebih banyak calon siswa.\n",
    "\n",
    "5. Pilihan Kelas Berbeda Berdasarkan Usia\n",
    "\n",
    " - Saran: Karena ada perbedaan preferensi kelas berdasarkan usia, Purwadhika bisa menawarkan program dengan segmentasi usia lebih jelas.\n",
    "Program Fundamental: Dipromosikan lebih intens kepada siswa muda.\n",
    "Program Spesialisasi/Profesional: Difokuskan untuk siswa dewasa atau profesional yang ingin meningkatkan keterampilan khusus.\n",
    "\n",
    "6. Gender sebagai Faktor Demografis\n",
    "\n",
    " - Saran: Mengingat dominasi gender laki-laki di setiap kelompok umur, Purwadhika dapat membuat kampanye inklusif untuk menarik lebih banyak siswa perempuan. Misalnya, melalui program beasiswa khusus perempuan di bidang teknologi atau workshop yang menyoroti pencapaian perempuan dalam industri teknologi.\n",
    "\n",
    "7. Tingkat Kemampuan yang Merata\n",
    "\n",
    " - Saran: Untuk mengakomodasi distribusi kemampuan yang seimbang di semua kelompok umur, Purwadhika dapat mengembangkan alat evaluasi awal (placement test) yang memastikan siswa ditempatkan pada kelas yang sesuai dengan tingkat kemampuan mereka."
   ]
  }
 ],
 "metadata": {
  "colab": {
   "provenance": [],
   "toc_visible": true
  },
  "kernelspec": {
   "display_name": "Python 3",
   "name": "python3"
  },
  "language_info": {
   "codemirror_mode": {
    "name": "ipython",
    "version": 3
   },
   "file_extension": ".py",
   "mimetype": "text/x-python",
   "name": "python",
   "nbconvert_exporter": "python",
   "pygments_lexer": "ipython3",
   "version": "3.12.7"
  }
 },
 "nbformat": 4,
 "nbformat_minor": 0
}
